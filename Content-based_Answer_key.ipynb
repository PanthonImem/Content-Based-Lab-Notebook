{
 "cells": [
  {
   "cell_type": "markdown",
   "metadata": {},
   "source": [
    "# Implementing a Simple Content-based Recommender\n",
    "\n",
    "In this guideline, you will be guided through implementing a simple content-based recommender system in python. \n",
    "\n",
    "In a content-based recommender system, what we care about most is the **content** of the items we are recommending.\n",
    "\n",
    "Note: You need python 3 and above for this tutorial. You can check your version of python by typing \n",
    "'python --version' into your terminal.\n",
    "\n",
    "(if you are using macOS and have already installed python3, try 'python3 --version' instead, as python2 and python3 can coexist in the same system)"
   ]
  },
  {
   "cell_type": "markdown",
   "metadata": {},
   "source": [
    "## Installing Packages"
   ]
  },
  {
   "cell_type": "markdown",
   "metadata": {},
   "source": [
    "Paste the following code in your terminal\n",
    "\n",
    "-!pip3 install pandas\n",
    "\n",
    "-!pip3 install numpy\n",
    "\n",
    "-!pip3 install pythainlp\n",
    "\n",
    "-!pip3 install gensim"
   ]
  },
  {
   "cell_type": "markdown",
   "metadata": {},
   "source": [
    "## Opening our data files with Pandas. \n",
    "\n",
    "Please feel free to skip this section if you are already familiar with Pandas. \n",
    "\n",
    "Python has a very convenient library for dealing with a large amount of data called **Pandas**.\n",
    "\n",
    "We have provided several different data files for you to use in the **CSV(comma-separated values)** form. However, instead of comma, we use semicolon as the separator instead to avoid the case of our data containing commas. \n",
    "\n",
    "Pandas has a class for working with data called **Dataframe**.\n",
    "\n",
    "In this section of this guideline, we will explore useful functions of the pandas.dataframe class. \n"
   ]
  },
  {
   "cell_type": "markdown",
   "metadata": {},
   "source": [
    "Before we use Dataframe, we will have to import pandas."
   ]
  },
  {
   "cell_type": "code",
   "execution_count": 1,
   "metadata": {},
   "outputs": [],
   "source": [
    "import pandas"
   ]
  },
  {
   "cell_type": "markdown",
   "metadata": {},
   "source": [
    "We will now try to open our .csv data file with pandas' **.read_csv**\n",
    "\n",
    "You can also obtain basic statistics of the dataframe with **.describe()**"
   ]
  },
  {
   "cell_type": "code",
   "execution_count": 2,
   "metadata": {},
   "outputs": [
    {
     "data": {
      "text/html": [
       "<div>\n",
       "<style scoped>\n",
       "    .dataframe tbody tr th:only-of-type {\n",
       "        vertical-align: middle;\n",
       "    }\n",
       "\n",
       "    .dataframe tbody tr th {\n",
       "        vertical-align: top;\n",
       "    }\n",
       "\n",
       "    .dataframe thead th {\n",
       "        text-align: right;\n",
       "    }\n",
       "</style>\n",
       "<table border=\"1\" class=\"dataframe\">\n",
       "  <thead>\n",
       "    <tr style=\"text-align: right;\">\n",
       "      <th></th>\n",
       "      <th>project_id</th>\n",
       "      <th>year</th>\n",
       "      <th>month</th>\n",
       "      <th>day</th>\n",
       "      <th>hour</th>\n",
       "    </tr>\n",
       "  </thead>\n",
       "  <tbody>\n",
       "    <tr>\n",
       "      <th>count</th>\n",
       "      <td>1.234579e+06</td>\n",
       "      <td>1234579.0</td>\n",
       "      <td>1.234579e+06</td>\n",
       "      <td>1.234579e+06</td>\n",
       "      <td>1.234579e+06</td>\n",
       "    </tr>\n",
       "    <tr>\n",
       "      <th>mean</th>\n",
       "      <td>6.401208e+03</td>\n",
       "      <td>2018.0</td>\n",
       "      <td>1.427945e+00</td>\n",
       "      <td>1.476546e+01</td>\n",
       "      <td>1.424961e+01</td>\n",
       "    </tr>\n",
       "    <tr>\n",
       "      <th>std</th>\n",
       "      <td>2.197497e+03</td>\n",
       "      <td>0.0</td>\n",
       "      <td>4.947810e-01</td>\n",
       "      <td>8.233066e+00</td>\n",
       "      <td>5.774527e+00</td>\n",
       "    </tr>\n",
       "    <tr>\n",
       "      <th>min</th>\n",
       "      <td>4.000000e+00</td>\n",
       "      <td>2018.0</td>\n",
       "      <td>1.000000e+00</td>\n",
       "      <td>1.000000e+00</td>\n",
       "      <td>0.000000e+00</td>\n",
       "    </tr>\n",
       "    <tr>\n",
       "      <th>25%</th>\n",
       "      <td>4.928000e+03</td>\n",
       "      <td>2018.0</td>\n",
       "      <td>1.000000e+00</td>\n",
       "      <td>8.000000e+00</td>\n",
       "      <td>1.100000e+01</td>\n",
       "    </tr>\n",
       "    <tr>\n",
       "      <th>50%</th>\n",
       "      <td>6.446000e+03</td>\n",
       "      <td>2018.0</td>\n",
       "      <td>1.000000e+00</td>\n",
       "      <td>1.500000e+01</td>\n",
       "      <td>1.500000e+01</td>\n",
       "    </tr>\n",
       "    <tr>\n",
       "      <th>75%</th>\n",
       "      <td>8.428000e+03</td>\n",
       "      <td>2018.0</td>\n",
       "      <td>2.000000e+00</td>\n",
       "      <td>2.100000e+01</td>\n",
       "      <td>1.900000e+01</td>\n",
       "    </tr>\n",
       "    <tr>\n",
       "      <th>max</th>\n",
       "      <td>9.504000e+03</td>\n",
       "      <td>2018.0</td>\n",
       "      <td>2.000000e+00</td>\n",
       "      <td>3.100000e+01</td>\n",
       "      <td>2.300000e+01</td>\n",
       "    </tr>\n",
       "  </tbody>\n",
       "</table>\n",
       "</div>"
      ],
      "text/plain": [
       "         project_id       year         month           day          hour\n",
       "count  1.234579e+06  1234579.0  1.234579e+06  1.234579e+06  1.234579e+06\n",
       "mean   6.401208e+03     2018.0  1.427945e+00  1.476546e+01  1.424961e+01\n",
       "std    2.197497e+03        0.0  4.947810e-01  8.233066e+00  5.774527e+00\n",
       "min    4.000000e+00     2018.0  1.000000e+00  1.000000e+00  0.000000e+00\n",
       "25%    4.928000e+03     2018.0  1.000000e+00  8.000000e+00  1.100000e+01\n",
       "50%    6.446000e+03     2018.0  1.000000e+00  1.500000e+01  1.500000e+01\n",
       "75%    8.428000e+03     2018.0  2.000000e+00  2.100000e+01  1.900000e+01\n",
       "max    9.504000e+03     2018.0  2.000000e+00  3.100000e+01  2.300000e+01"
      ]
     },
     "execution_count": 2,
     "metadata": {},
     "output_type": "execute_result"
    }
   ],
   "source": [
    "df = pandas.read_csv('userLog_201801_201802_for_participants.csv', sep = ';')\n",
    "df.describe()"
   ]
  },
  {
   "cell_type": "markdown",
   "metadata": {},
   "source": [
    "**.head(n)** shows the first n rows of the dataframe. \n",
    "\n",
    "**.tail(n)** shows the last n rows of the dataframe."
   ]
  },
  {
   "cell_type": "code",
   "execution_count": 3,
   "metadata": {},
   "outputs": [
    {
     "data": {
      "text/html": [
       "<div>\n",
       "<style scoped>\n",
       "    .dataframe tbody tr th:only-of-type {\n",
       "        vertical-align: middle;\n",
       "    }\n",
       "\n",
       "    .dataframe tbody tr th {\n",
       "        vertical-align: top;\n",
       "    }\n",
       "\n",
       "    .dataframe thead th {\n",
       "        text-align: right;\n",
       "    }\n",
       "</style>\n",
       "<table border=\"1\" class=\"dataframe\">\n",
       "  <thead>\n",
       "    <tr style=\"text-align: right;\">\n",
       "      <th></th>\n",
       "      <th>userCode</th>\n",
       "      <th>project_id</th>\n",
       "      <th>requestedDevice</th>\n",
       "      <th>userAgent</th>\n",
       "      <th>pageReferrer</th>\n",
       "      <th>year</th>\n",
       "      <th>month</th>\n",
       "      <th>day</th>\n",
       "      <th>hour</th>\n",
       "    </tr>\n",
       "  </thead>\n",
       "  <tbody>\n",
       "    <tr>\n",
       "      <th>0</th>\n",
       "      <td>7717bdc2-ea3e-e8ad-5d6b-178bd71c38b2</td>\n",
       "      <td>7956</td>\n",
       "      <td>Mobile</td>\n",
       "      <td>Android</td>\n",
       "      <td>HomeWebsite</td>\n",
       "      <td>2018</td>\n",
       "      <td>1</td>\n",
       "      <td>1</td>\n",
       "      <td>0</td>\n",
       "    </tr>\n",
       "    <tr>\n",
       "      <th>1</th>\n",
       "      <td>7717bdc2-ea3e-e8ad-5d6b-178bd71c38b2</td>\n",
       "      <td>7956</td>\n",
       "      <td>Mobile</td>\n",
       "      <td>Android</td>\n",
       "      <td>HomeWebsite</td>\n",
       "      <td>2018</td>\n",
       "      <td>1</td>\n",
       "      <td>1</td>\n",
       "      <td>0</td>\n",
       "    </tr>\n",
       "    <tr>\n",
       "      <th>2</th>\n",
       "      <td>cb5b4b68-cc01-6db6-f54b-4a0f881301c5</td>\n",
       "      <td>5067</td>\n",
       "      <td>Mobile</td>\n",
       "      <td>iPhone</td>\n",
       "      <td>HomeWebsite</td>\n",
       "      <td>2018</td>\n",
       "      <td>1</td>\n",
       "      <td>1</td>\n",
       "      <td>0</td>\n",
       "    </tr>\n",
       "    <tr>\n",
       "      <th>3</th>\n",
       "      <td>5f74cef2-0d1e-b619-3564-0955a14e0985</td>\n",
       "      <td>6654</td>\n",
       "      <td>Mobile</td>\n",
       "      <td>iPhone</td>\n",
       "      <td>Google</td>\n",
       "      <td>2018</td>\n",
       "      <td>1</td>\n",
       "      <td>1</td>\n",
       "      <td>0</td>\n",
       "    </tr>\n",
       "    <tr>\n",
       "      <th>4</th>\n",
       "      <td>dba8f279-844e-eef6-73ac-22bd7d1353cc</td>\n",
       "      <td>6474</td>\n",
       "      <td>Mobile</td>\n",
       "      <td>iPad</td>\n",
       "      <td>Google</td>\n",
       "      <td>2018</td>\n",
       "      <td>1</td>\n",
       "      <td>1</td>\n",
       "      <td>0</td>\n",
       "    </tr>\n",
       "    <tr>\n",
       "      <th>5</th>\n",
       "      <td>1bce397f-9edd-6f75-40ea-408a27ddb0e8</td>\n",
       "      <td>6297</td>\n",
       "      <td>Mobile</td>\n",
       "      <td>Android</td>\n",
       "      <td>Other_PageReferer</td>\n",
       "      <td>2018</td>\n",
       "      <td>1</td>\n",
       "      <td>1</td>\n",
       "      <td>0</td>\n",
       "    </tr>\n",
       "    <tr>\n",
       "      <th>6</th>\n",
       "      <td>dba8f279-844e-eef6-73ac-22bd7d1353cc</td>\n",
       "      <td>6474</td>\n",
       "      <td>Mobile</td>\n",
       "      <td>iPad</td>\n",
       "      <td>Google</td>\n",
       "      <td>2018</td>\n",
       "      <td>1</td>\n",
       "      <td>1</td>\n",
       "      <td>0</td>\n",
       "    </tr>\n",
       "    <tr>\n",
       "      <th>7</th>\n",
       "      <td>7717bdc2-ea3e-e8ad-5d6b-178bd71c38b2</td>\n",
       "      <td>7956</td>\n",
       "      <td>Mobile</td>\n",
       "      <td>Android</td>\n",
       "      <td>HomeWebsite</td>\n",
       "      <td>2018</td>\n",
       "      <td>1</td>\n",
       "      <td>1</td>\n",
       "      <td>0</td>\n",
       "    </tr>\n",
       "    <tr>\n",
       "      <th>8</th>\n",
       "      <td>9794fe34-fb0f-4242-8a35-7610cb1e0ee8</td>\n",
       "      <td>9323</td>\n",
       "      <td>Mobile</td>\n",
       "      <td>iPad</td>\n",
       "      <td>Facebook</td>\n",
       "      <td>2018</td>\n",
       "      <td>1</td>\n",
       "      <td>1</td>\n",
       "      <td>0</td>\n",
       "    </tr>\n",
       "    <tr>\n",
       "      <th>9</th>\n",
       "      <td>812246ad-97a8-2a9d-457b-4b5bb521e20c</td>\n",
       "      <td>5764</td>\n",
       "      <td>Mobile</td>\n",
       "      <td>Android</td>\n",
       "      <td>Facebook</td>\n",
       "      <td>2018</td>\n",
       "      <td>1</td>\n",
       "      <td>1</td>\n",
       "      <td>0</td>\n",
       "    </tr>\n",
       "  </tbody>\n",
       "</table>\n",
       "</div>"
      ],
      "text/plain": [
       "                               userCode  project_id requestedDevice userAgent  \\\n",
       "0  7717bdc2-ea3e-e8ad-5d6b-178bd71c38b2        7956          Mobile   Android   \n",
       "1  7717bdc2-ea3e-e8ad-5d6b-178bd71c38b2        7956          Mobile   Android   \n",
       "2  cb5b4b68-cc01-6db6-f54b-4a0f881301c5        5067          Mobile    iPhone   \n",
       "3  5f74cef2-0d1e-b619-3564-0955a14e0985        6654          Mobile    iPhone   \n",
       "4  dba8f279-844e-eef6-73ac-22bd7d1353cc        6474          Mobile      iPad   \n",
       "5  1bce397f-9edd-6f75-40ea-408a27ddb0e8        6297          Mobile   Android   \n",
       "6  dba8f279-844e-eef6-73ac-22bd7d1353cc        6474          Mobile      iPad   \n",
       "7  7717bdc2-ea3e-e8ad-5d6b-178bd71c38b2        7956          Mobile   Android   \n",
       "8  9794fe34-fb0f-4242-8a35-7610cb1e0ee8        9323          Mobile      iPad   \n",
       "9  812246ad-97a8-2a9d-457b-4b5bb521e20c        5764          Mobile   Android   \n",
       "\n",
       "        pageReferrer  year  month  day  hour  \n",
       "0        HomeWebsite  2018      1    1     0  \n",
       "1        HomeWebsite  2018      1    1     0  \n",
       "2        HomeWebsite  2018      1    1     0  \n",
       "3             Google  2018      1    1     0  \n",
       "4             Google  2018      1    1     0  \n",
       "5  Other_PageReferer  2018      1    1     0  \n",
       "6             Google  2018      1    1     0  \n",
       "7        HomeWebsite  2018      1    1     0  \n",
       "8           Facebook  2018      1    1     0  \n",
       "9           Facebook  2018      1    1     0  "
      ]
     },
     "execution_count": 3,
     "metadata": {},
     "output_type": "execute_result"
    }
   ],
   "source": [
    "df.head(10)"
   ]
  },
  {
   "cell_type": "markdown",
   "metadata": {},
   "source": [
    "**.unique()** gives you an array of all possible values of a column in the dataframe. "
   ]
  },
  {
   "cell_type": "code",
   "execution_count": 4,
   "metadata": {},
   "outputs": [
    {
     "data": {
      "text/plain": [
       "array(['Android', 'iPhone', 'iPad', 'Windows', 'Macintosh', 'Other_OS'],\n",
       "      dtype=object)"
      ]
     },
     "execution_count": 4,
     "metadata": {},
     "output_type": "execute_result"
    }
   ],
   "source": [
    "df['userAgent'].unique()"
   ]
  },
  {
   "cell_type": "markdown",
   "metadata": {},
   "source": [
    "Below is how you can modify the dataframe to only have the columns that you desire. "
   ]
  },
  {
   "cell_type": "code",
   "execution_count": 5,
   "metadata": {},
   "outputs": [
    {
     "data": {
      "text/html": [
       "<div>\n",
       "<style scoped>\n",
       "    .dataframe tbody tr th:only-of-type {\n",
       "        vertical-align: middle;\n",
       "    }\n",
       "\n",
       "    .dataframe tbody tr th {\n",
       "        vertical-align: top;\n",
       "    }\n",
       "\n",
       "    .dataframe thead th {\n",
       "        text-align: right;\n",
       "    }\n",
       "</style>\n",
       "<table border=\"1\" class=\"dataframe\">\n",
       "  <thead>\n",
       "    <tr style=\"text-align: right;\">\n",
       "      <th></th>\n",
       "      <th>userCode</th>\n",
       "      <th>project_id</th>\n",
       "    </tr>\n",
       "  </thead>\n",
       "  <tbody>\n",
       "    <tr>\n",
       "      <th>0</th>\n",
       "      <td>7717bdc2-ea3e-e8ad-5d6b-178bd71c38b2</td>\n",
       "      <td>7956</td>\n",
       "    </tr>\n",
       "    <tr>\n",
       "      <th>1</th>\n",
       "      <td>7717bdc2-ea3e-e8ad-5d6b-178bd71c38b2</td>\n",
       "      <td>7956</td>\n",
       "    </tr>\n",
       "    <tr>\n",
       "      <th>2</th>\n",
       "      <td>cb5b4b68-cc01-6db6-f54b-4a0f881301c5</td>\n",
       "      <td>5067</td>\n",
       "    </tr>\n",
       "    <tr>\n",
       "      <th>3</th>\n",
       "      <td>5f74cef2-0d1e-b619-3564-0955a14e0985</td>\n",
       "      <td>6654</td>\n",
       "    </tr>\n",
       "    <tr>\n",
       "      <th>4</th>\n",
       "      <td>dba8f279-844e-eef6-73ac-22bd7d1353cc</td>\n",
       "      <td>6474</td>\n",
       "    </tr>\n",
       "    <tr>\n",
       "      <th>5</th>\n",
       "      <td>1bce397f-9edd-6f75-40ea-408a27ddb0e8</td>\n",
       "      <td>6297</td>\n",
       "    </tr>\n",
       "    <tr>\n",
       "      <th>6</th>\n",
       "      <td>dba8f279-844e-eef6-73ac-22bd7d1353cc</td>\n",
       "      <td>6474</td>\n",
       "    </tr>\n",
       "    <tr>\n",
       "      <th>7</th>\n",
       "      <td>7717bdc2-ea3e-e8ad-5d6b-178bd71c38b2</td>\n",
       "      <td>7956</td>\n",
       "    </tr>\n",
       "    <tr>\n",
       "      <th>8</th>\n",
       "      <td>9794fe34-fb0f-4242-8a35-7610cb1e0ee8</td>\n",
       "      <td>9323</td>\n",
       "    </tr>\n",
       "    <tr>\n",
       "      <th>9</th>\n",
       "      <td>812246ad-97a8-2a9d-457b-4b5bb521e20c</td>\n",
       "      <td>5764</td>\n",
       "    </tr>\n",
       "    <tr>\n",
       "      <th>10</th>\n",
       "      <td>9794fe34-fb0f-4242-8a35-7610cb1e0ee8</td>\n",
       "      <td>9323</td>\n",
       "    </tr>\n",
       "    <tr>\n",
       "      <th>11</th>\n",
       "      <td>aeda4133-61eb-07fd-a004-ca1fecb0aaa4</td>\n",
       "      <td>7847</td>\n",
       "    </tr>\n",
       "    <tr>\n",
       "      <th>12</th>\n",
       "      <td>5badf2de-4bc2-c66b-64fd-13184832dfa0</td>\n",
       "      <td>2560</td>\n",
       "    </tr>\n",
       "    <tr>\n",
       "      <th>13</th>\n",
       "      <td>aeda4133-61eb-07fd-a004-ca1fecb0aaa4</td>\n",
       "      <td>7847</td>\n",
       "    </tr>\n",
       "    <tr>\n",
       "      <th>14</th>\n",
       "      <td>67134749-f09c-747e-777c-59d7cba5e179</td>\n",
       "      <td>4201</td>\n",
       "    </tr>\n",
       "    <tr>\n",
       "      <th>15</th>\n",
       "      <td>a9edf492-d59f-874b-88ab-a729bacef361</td>\n",
       "      <td>3860</td>\n",
       "    </tr>\n",
       "    <tr>\n",
       "      <th>16</th>\n",
       "      <td>2ffd9643-61d1-aed9-3dbd-4e0bc502dd97</td>\n",
       "      <td>7564</td>\n",
       "    </tr>\n",
       "    <tr>\n",
       "      <th>17</th>\n",
       "      <td>39dba0c3-e628-75ce-2481-56ef8acfd987</td>\n",
       "      <td>4062</td>\n",
       "    </tr>\n",
       "    <tr>\n",
       "      <th>18</th>\n",
       "      <td>a601a987-c3a4-b9d7-4c59-e22eb3c64069</td>\n",
       "      <td>7440</td>\n",
       "    </tr>\n",
       "    <tr>\n",
       "      <th>19</th>\n",
       "      <td>a2fd4a4c-3b6d-e6f6-7bf4-843ced3f7ea3</td>\n",
       "      <td>7988</td>\n",
       "    </tr>\n",
       "    <tr>\n",
       "      <th>20</th>\n",
       "      <td>e02a9121-bf25-99ed-b952-83322aff365c</td>\n",
       "      <td>6427</td>\n",
       "    </tr>\n",
       "    <tr>\n",
       "      <th>21</th>\n",
       "      <td>1d7f261c-fb05-1de3-f632-c5cc823bc717</td>\n",
       "      <td>5764</td>\n",
       "    </tr>\n",
       "    <tr>\n",
       "      <th>22</th>\n",
       "      <td>d4acc017-cf9d-395e-3684-108e6bd195b0</td>\n",
       "      <td>5764</td>\n",
       "    </tr>\n",
       "    <tr>\n",
       "      <th>23</th>\n",
       "      <td>69ae47f2-874c-a4cc-8331-da565a2c3f55</td>\n",
       "      <td>7973</td>\n",
       "    </tr>\n",
       "    <tr>\n",
       "      <th>24</th>\n",
       "      <td>cf5ff490-c9d3-8ef3-7d22-42753c3289f9</td>\n",
       "      <td>9257</td>\n",
       "    </tr>\n",
       "    <tr>\n",
       "      <th>25</th>\n",
       "      <td>e1317300-cf15-d8d5-427e-5814c3c42253</td>\n",
       "      <td>7973</td>\n",
       "    </tr>\n",
       "    <tr>\n",
       "      <th>26</th>\n",
       "      <td>61419a27-ae7f-21a4-65c3-6602f2e51378</td>\n",
       "      <td>6550</td>\n",
       "    </tr>\n",
       "    <tr>\n",
       "      <th>27</th>\n",
       "      <td>cf5ff490-c9d3-8ef3-7d22-42753c3289f9</td>\n",
       "      <td>9257</td>\n",
       "    </tr>\n",
       "    <tr>\n",
       "      <th>28</th>\n",
       "      <td>91cfe952-7400-623e-9851-096dd8f63b4a</td>\n",
       "      <td>5856</td>\n",
       "    </tr>\n",
       "    <tr>\n",
       "      <th>29</th>\n",
       "      <td>c5483446-91f6-cf2d-5ea5-4d698cb0d08f</td>\n",
       "      <td>6251</td>\n",
       "    </tr>\n",
       "  </tbody>\n",
       "</table>\n",
       "</div>"
      ],
      "text/plain": [
       "                                userCode  project_id\n",
       "0   7717bdc2-ea3e-e8ad-5d6b-178bd71c38b2        7956\n",
       "1   7717bdc2-ea3e-e8ad-5d6b-178bd71c38b2        7956\n",
       "2   cb5b4b68-cc01-6db6-f54b-4a0f881301c5        5067\n",
       "3   5f74cef2-0d1e-b619-3564-0955a14e0985        6654\n",
       "4   dba8f279-844e-eef6-73ac-22bd7d1353cc        6474\n",
       "5   1bce397f-9edd-6f75-40ea-408a27ddb0e8        6297\n",
       "6   dba8f279-844e-eef6-73ac-22bd7d1353cc        6474\n",
       "7   7717bdc2-ea3e-e8ad-5d6b-178bd71c38b2        7956\n",
       "8   9794fe34-fb0f-4242-8a35-7610cb1e0ee8        9323\n",
       "9   812246ad-97a8-2a9d-457b-4b5bb521e20c        5764\n",
       "10  9794fe34-fb0f-4242-8a35-7610cb1e0ee8        9323\n",
       "11  aeda4133-61eb-07fd-a004-ca1fecb0aaa4        7847\n",
       "12  5badf2de-4bc2-c66b-64fd-13184832dfa0        2560\n",
       "13  aeda4133-61eb-07fd-a004-ca1fecb0aaa4        7847\n",
       "14  67134749-f09c-747e-777c-59d7cba5e179        4201\n",
       "15  a9edf492-d59f-874b-88ab-a729bacef361        3860\n",
       "16  2ffd9643-61d1-aed9-3dbd-4e0bc502dd97        7564\n",
       "17  39dba0c3-e628-75ce-2481-56ef8acfd987        4062\n",
       "18  a601a987-c3a4-b9d7-4c59-e22eb3c64069        7440\n",
       "19  a2fd4a4c-3b6d-e6f6-7bf4-843ced3f7ea3        7988\n",
       "20  e02a9121-bf25-99ed-b952-83322aff365c        6427\n",
       "21  1d7f261c-fb05-1de3-f632-c5cc823bc717        5764\n",
       "22  d4acc017-cf9d-395e-3684-108e6bd195b0        5764\n",
       "23  69ae47f2-874c-a4cc-8331-da565a2c3f55        7973\n",
       "24  cf5ff490-c9d3-8ef3-7d22-42753c3289f9        9257\n",
       "25  e1317300-cf15-d8d5-427e-5814c3c42253        7973\n",
       "26  61419a27-ae7f-21a4-65c3-6602f2e51378        6550\n",
       "27  cf5ff490-c9d3-8ef3-7d22-42753c3289f9        9257\n",
       "28  91cfe952-7400-623e-9851-096dd8f63b4a        5856\n",
       "29  c5483446-91f6-cf2d-5ea5-4d698cb0d08f        6251"
      ]
     },
     "execution_count": 5,
     "metadata": {},
     "output_type": "execute_result"
    }
   ],
   "source": [
    "df_b = df[['userCode','project_id']]\n",
    "df_b.head(30)"
   ]
  },
  {
   "cell_type": "markdown",
   "metadata": {},
   "source": [
    "\n",
    "\n",
    "Below is a list of useful pandas.dataframe attributes.\n",
    "\n",
    "dataframe**.shape** gives a tuple representing the size of the dataframe in the form (rows, columns)\n",
    "\n",
    "dataframe**.iloc[row][column]** provides the integer-location based indexing of a dataframe for selection(for index-based, use **loc** instead of **iloc**)\n",
    "\n",
    "dataframe**.at[row,column]** let you access the value at the specific location \n",
    "\n",
    "You can find out more about pandas [here](https://pandas.pydata.org/pandas-docs/stable/generated/pandas.DataFrame.html)\n"
   ]
  },
  {
   "cell_type": "code",
   "execution_count": 6,
   "metadata": {},
   "outputs": [
    {
     "name": "stdout",
     "output_type": "stream",
     "text": [
      "(1234579, 2)\n",
      "7956\n",
      "7717bdc2-ea3e-e8ad-5d6b-178bd71c38b2\n",
      "Dummy Text\n",
      "7717bdc2-ea3e-e8ad-5d6b-178bd71c38b2\n"
     ]
    }
   ],
   "source": [
    "print(df_b.shape)\n",
    "print(df_b.iloc[0][1])\n",
    "\n",
    "#note that we can use the column name instead of integer-indexing too. \n",
    "#This is convenient if we ever manipulate our dataframe, which we likely will\n",
    "print(df_b.iloc[0]['userCode'])\n",
    "\n",
    "#Note that writing df_copy = df simple creates a reference to the same object.\n",
    "#If you do not want to modify your dataframe, use df.copy \n",
    "df_copy = df_b.copy(deep=True)\n",
    "df_copy.at[0,'userCode']= 'Dummy Text'\n",
    "print(df_copy.iloc[0]['userCode'])\n",
    "\n",
    "#the original dataframe remains the same\n",
    "print(df_b.iloc[0]['userCode'])"
   ]
  },
  {
   "cell_type": "markdown",
   "metadata": {},
   "source": [
    "### TO DO #1:  Warming Up (Sorting)\n",
    "Try sorting the dataframe by\n",
    "\n",
    "1) userCode\n",
    "\n",
    "2) userCode but descending\n",
    "\n",
    "3) userCode as the primary sort axis(ascending), project_id as the secondary sort axis(descending)\n",
    "\n",
    "Note1: Check the documentation for dataframe .sort_values() [here](https://pandas.pydata.org/pandas-docs/stable/generated/pandas.DataFrame.sort_values.html#pandas.DataFrame.sort_values).\n",
    "\n",
    "Note2: You may want to use .reset_index(drop = True) after sorting. Try it out and see what happens. "
   ]
  },
  {
   "cell_type": "code",
   "execution_count": 7,
   "metadata": {},
   "outputs": [],
   "source": [
    "df_copy = df_b.copy(deep=True)\n",
    "\n",
    "#manipulate df_copy, not df_b or df\n",
    "\n",
    "\n",
    "#Empty this cell for participant\n",
    "#print(df.sort_values('userCode'))\n",
    "#print(df.sort_values('userCode', ascending = False))\n",
    "#print(df.sort_values(['userCode','project_id'], ascending = [True, False]))"
   ]
  },
  {
   "cell_type": "markdown",
   "metadata": {},
   "source": [
    "There is also a process called **groupby**, which the [documentation](https://pandas.pydata.org/pandas-docs/stable/groupby.html) nicely explains with three words: split-apply-combine\n",
    "\n",
    "Below is one example of how you can use groupby to \n",
    "1) split by userCode\n",
    "2) apply the function 'count'\n",
    "3) combine the result back together"
   ]
  },
  {
   "cell_type": "code",
   "execution_count": 8,
   "metadata": {},
   "outputs": [
    {
     "data": {
      "text/html": [
       "<div>\n",
       "<style scoped>\n",
       "    .dataframe tbody tr th:only-of-type {\n",
       "        vertical-align: middle;\n",
       "    }\n",
       "\n",
       "    .dataframe tbody tr th {\n",
       "        vertical-align: top;\n",
       "    }\n",
       "\n",
       "    .dataframe thead th {\n",
       "        text-align: right;\n",
       "    }\n",
       "</style>\n",
       "<table border=\"1\" class=\"dataframe\">\n",
       "  <thead>\n",
       "    <tr style=\"text-align: right;\">\n",
       "      <th></th>\n",
       "      <th>index</th>\n",
       "      <th>userCode</th>\n",
       "      <th>project_id</th>\n",
       "      <th>num_browse</th>\n",
       "    </tr>\n",
       "  </thead>\n",
       "  <tbody>\n",
       "    <tr>\n",
       "      <th>0</th>\n",
       "      <td>847445</td>\n",
       "      <td>00005aba-5ebc-0821-f5a9-bacca40be125</td>\n",
       "      <td>5342</td>\n",
       "      <td>1</td>\n",
       "    </tr>\n",
       "    <tr>\n",
       "      <th>1</th>\n",
       "      <td>66594</td>\n",
       "      <td>0000bae7-6233-d7cc-2a6d-48aa70fe8ad4</td>\n",
       "      <td>5678</td>\n",
       "      <td>1</td>\n",
       "    </tr>\n",
       "    <tr>\n",
       "      <th>2</th>\n",
       "      <td>314280</td>\n",
       "      <td>0000c576-e929-19eb-615a-349ec3b4709b</td>\n",
       "      <td>6461</td>\n",
       "      <td>1</td>\n",
       "    </tr>\n",
       "    <tr>\n",
       "      <th>3</th>\n",
       "      <td>511353</td>\n",
       "      <td>0000d196-6385-80b8-661d-b7427042daa3</td>\n",
       "      <td>9040</td>\n",
       "      <td>1</td>\n",
       "    </tr>\n",
       "    <tr>\n",
       "      <th>4</th>\n",
       "      <td>57898</td>\n",
       "      <td>0000e1e2-f595-0ae7-860f-fcc07dcb116e</td>\n",
       "      <td>6709</td>\n",
       "      <td>2</td>\n",
       "    </tr>\n",
       "    <tr>\n",
       "      <th>5</th>\n",
       "      <td>58475</td>\n",
       "      <td>0000e1e2-f595-0ae7-860f-fcc07dcb116e</td>\n",
       "      <td>6712</td>\n",
       "      <td>2</td>\n",
       "    </tr>\n",
       "    <tr>\n",
       "      <th>6</th>\n",
       "      <td>533568</td>\n",
       "      <td>0000fa46-1f0b-9504-b568-43479d17620e</td>\n",
       "      <td>8829</td>\n",
       "      <td>6</td>\n",
       "    </tr>\n",
       "    <tr>\n",
       "      <th>7</th>\n",
       "      <td>533614</td>\n",
       "      <td>0000fa46-1f0b-9504-b568-43479d17620e</td>\n",
       "      <td>4703</td>\n",
       "      <td>6</td>\n",
       "    </tr>\n",
       "    <tr>\n",
       "      <th>8</th>\n",
       "      <td>533715</td>\n",
       "      <td>0000fa46-1f0b-9504-b568-43479d17620e</td>\n",
       "      <td>4703</td>\n",
       "      <td>6</td>\n",
       "    </tr>\n",
       "    <tr>\n",
       "      <th>9</th>\n",
       "      <td>533718</td>\n",
       "      <td>0000fa46-1f0b-9504-b568-43479d17620e</td>\n",
       "      <td>8829</td>\n",
       "      <td>6</td>\n",
       "    </tr>\n",
       "    <tr>\n",
       "      <th>10</th>\n",
       "      <td>536300</td>\n",
       "      <td>0000fa46-1f0b-9504-b568-43479d17620e</td>\n",
       "      <td>4184</td>\n",
       "      <td>6</td>\n",
       "    </tr>\n",
       "    <tr>\n",
       "      <th>11</th>\n",
       "      <td>533689</td>\n",
       "      <td>0000fa46-1f0b-9504-b568-43479d17620e</td>\n",
       "      <td>6577</td>\n",
       "      <td>6</td>\n",
       "    </tr>\n",
       "    <tr>\n",
       "      <th>12</th>\n",
       "      <td>750621</td>\n",
       "      <td>00011133-6093-88a6-98b8-de44b88170f3</td>\n",
       "      <td>6425</td>\n",
       "      <td>1</td>\n",
       "    </tr>\n",
       "    <tr>\n",
       "      <th>13</th>\n",
       "      <td>320008</td>\n",
       "      <td>00011607-0514-1c6c-9e93-30aca362f7e6</td>\n",
       "      <td>4210</td>\n",
       "      <td>1</td>\n",
       "    </tr>\n",
       "    <tr>\n",
       "      <th>14</th>\n",
       "      <td>127248</td>\n",
       "      <td>00015aac-868d-57da-d68a-1ff71b598380</td>\n",
       "      <td>8159</td>\n",
       "      <td>1</td>\n",
       "    </tr>\n",
       "    <tr>\n",
       "      <th>15</th>\n",
       "      <td>962969</td>\n",
       "      <td>00019a11-0aaa-2559-4feb-534724830d3e</td>\n",
       "      <td>9095</td>\n",
       "      <td>3</td>\n",
       "    </tr>\n",
       "    <tr>\n",
       "      <th>16</th>\n",
       "      <td>945651</td>\n",
       "      <td>00019a11-0aaa-2559-4feb-534724830d3e</td>\n",
       "      <td>5985</td>\n",
       "      <td>3</td>\n",
       "    </tr>\n",
       "    <tr>\n",
       "      <th>17</th>\n",
       "      <td>945689</td>\n",
       "      <td>00019a11-0aaa-2559-4feb-534724830d3e</td>\n",
       "      <td>8587</td>\n",
       "      <td>3</td>\n",
       "    </tr>\n",
       "    <tr>\n",
       "      <th>18</th>\n",
       "      <td>361796</td>\n",
       "      <td>0001eb13-0dbf-2a19-6a3f-893e17988350</td>\n",
       "      <td>5555</td>\n",
       "      <td>1</td>\n",
       "    </tr>\n",
       "    <tr>\n",
       "      <th>19</th>\n",
       "      <td>4083</td>\n",
       "      <td>0001f016-c997-6b0e-b46e-be885262f645</td>\n",
       "      <td>5858</td>\n",
       "      <td>1</td>\n",
       "    </tr>\n",
       "  </tbody>\n",
       "</table>\n",
       "</div>"
      ],
      "text/plain": [
       "     index                              userCode  project_id  num_browse\n",
       "0   847445  00005aba-5ebc-0821-f5a9-bacca40be125        5342           1\n",
       "1    66594  0000bae7-6233-d7cc-2a6d-48aa70fe8ad4        5678           1\n",
       "2   314280  0000c576-e929-19eb-615a-349ec3b4709b        6461           1\n",
       "3   511353  0000d196-6385-80b8-661d-b7427042daa3        9040           1\n",
       "4    57898  0000e1e2-f595-0ae7-860f-fcc07dcb116e        6709           2\n",
       "5    58475  0000e1e2-f595-0ae7-860f-fcc07dcb116e        6712           2\n",
       "6   533568  0000fa46-1f0b-9504-b568-43479d17620e        8829           6\n",
       "7   533614  0000fa46-1f0b-9504-b568-43479d17620e        4703           6\n",
       "8   533715  0000fa46-1f0b-9504-b568-43479d17620e        4703           6\n",
       "9   533718  0000fa46-1f0b-9504-b568-43479d17620e        8829           6\n",
       "10  536300  0000fa46-1f0b-9504-b568-43479d17620e        4184           6\n",
       "11  533689  0000fa46-1f0b-9504-b568-43479d17620e        6577           6\n",
       "12  750621  00011133-6093-88a6-98b8-de44b88170f3        6425           1\n",
       "13  320008  00011607-0514-1c6c-9e93-30aca362f7e6        4210           1\n",
       "14  127248  00015aac-868d-57da-d68a-1ff71b598380        8159           1\n",
       "15  962969  00019a11-0aaa-2559-4feb-534724830d3e        9095           3\n",
       "16  945651  00019a11-0aaa-2559-4feb-534724830d3e        5985           3\n",
       "17  945689  00019a11-0aaa-2559-4feb-534724830d3e        8587           3\n",
       "18  361796  0001eb13-0dbf-2a19-6a3f-893e17988350        5555           1\n",
       "19    4083  0001f016-c997-6b0e-b46e-be885262f645        5858           1"
      ]
     },
     "execution_count": 8,
     "metadata": {},
     "output_type": "execute_result"
    }
   ],
   "source": [
    "df_b = df_b.sort_values('userCode')\n",
    "df_b['num_browse'] = df_b.groupby('userCode').transform('count')\n",
    "df_b = df_b.reset_index()\n",
    "df_b.head(20)\n"
   ]
  },
  {
   "cell_type": "markdown",
   "metadata": {},
   "source": [
    "## Data Exploration and Preprocessing\n",
    "\n",
    "### TO DO #2: Find Top Viewers\n",
    "\n",
    "Find out the maximum number of times that a single browsed our log. \n",
    "\n",
    "Hint: Utilize num_browse, dataframe.drop_duplicates, and .sort_values()\n",
    "\n",
    "Answer Check: The top viewer is 'de89bac5-57c6-ecfb-184d-cc4e973c31ac'. If you get this user as the top viewer, your result is correct. "
   ]
  },
  {
   "cell_type": "code",
   "execution_count": 9,
   "metadata": {},
   "outputs": [
    {
     "data": {
      "text/html": [
       "<div>\n",
       "<style scoped>\n",
       "    .dataframe tbody tr th:only-of-type {\n",
       "        vertical-align: middle;\n",
       "    }\n",
       "\n",
       "    .dataframe tbody tr th {\n",
       "        vertical-align: top;\n",
       "    }\n",
       "\n",
       "    .dataframe thead th {\n",
       "        text-align: right;\n",
       "    }\n",
       "</style>\n",
       "<table border=\"1\" class=\"dataframe\">\n",
       "  <thead>\n",
       "    <tr style=\"text-align: right;\">\n",
       "      <th></th>\n",
       "      <th>userCode</th>\n",
       "      <th>num_browse</th>\n",
       "    </tr>\n",
       "  </thead>\n",
       "  <tbody>\n",
       "    <tr>\n",
       "      <th>1077297</th>\n",
       "      <td>de89bac5-57c6-ecfb-184d-cc4e973c31ac</td>\n",
       "      <td>24308</td>\n",
       "    </tr>\n",
       "    <tr>\n",
       "      <th>233976</th>\n",
       "      <td>31bb9bf0-8ad5-3e50-f334-e6c7de89bac5</td>\n",
       "      <td>8238</td>\n",
       "    </tr>\n",
       "    <tr>\n",
       "      <th>304068</th>\n",
       "      <td>3f0b3f64-468d-8411-efee-debb3facd532</td>\n",
       "      <td>1641</td>\n",
       "    </tr>\n",
       "    <tr>\n",
       "      <th>1152955</th>\n",
       "      <td>eec0a125-d5ab-f692-c501-4713c35c756d</td>\n",
       "      <td>1533</td>\n",
       "    </tr>\n",
       "    <tr>\n",
       "      <th>875884</th>\n",
       "      <td>b883abba-dc3e-f30d-a571-98fffeffe88f</td>\n",
       "      <td>1362</td>\n",
       "    </tr>\n",
       "    <tr>\n",
       "      <th>210487</th>\n",
       "      <td>2d023fed-0cad-0f48-c7c8-77ce40e36d0f</td>\n",
       "      <td>1261</td>\n",
       "    </tr>\n",
       "    <tr>\n",
       "      <th>726185</th>\n",
       "      <td>987779b7-042c-ddea-e43c-5132045fe84e</td>\n",
       "      <td>1138</td>\n",
       "    </tr>\n",
       "    <tr>\n",
       "      <th>433255</th>\n",
       "      <td>5a5c8ed0-dee9-beff-0a91-4c65d31e3744</td>\n",
       "      <td>954</td>\n",
       "    </tr>\n",
       "    <tr>\n",
       "      <th>652917</th>\n",
       "      <td>894a4600-3006-06c5-bff9-cd37a3618bc1</td>\n",
       "      <td>806</td>\n",
       "    </tr>\n",
       "    <tr>\n",
       "      <th>546549</th>\n",
       "      <td>72bd11b1-1880-2468-a691-78a33f0b3f64</td>\n",
       "      <td>790</td>\n",
       "    </tr>\n",
       "    <tr>\n",
       "      <th>1102271</th>\n",
       "      <td>e400406a-b73d-3e78-d37d-53fcddebccaf</td>\n",
       "      <td>710</td>\n",
       "    </tr>\n",
       "    <tr>\n",
       "      <th>123333</th>\n",
       "      <td>1aecd8e5-f02b-ba5c-e865-49da43ad8f22</td>\n",
       "      <td>636</td>\n",
       "    </tr>\n",
       "    <tr>\n",
       "      <th>13001</th>\n",
       "      <td>02e5a154-8e62-a827-db93-bf15c35da2a5</td>\n",
       "      <td>545</td>\n",
       "    </tr>\n",
       "    <tr>\n",
       "      <th>620662</th>\n",
       "      <td>8258ff86-189d-a4b9-c9f4-105d495167f2</td>\n",
       "      <td>536</td>\n",
       "    </tr>\n",
       "    <tr>\n",
       "      <th>220802</th>\n",
       "      <td>2f3f0973-0fad-4d83-39b6-d55662c9dcbc</td>\n",
       "      <td>472</td>\n",
       "    </tr>\n",
       "    <tr>\n",
       "      <th>293933</th>\n",
       "      <td>3d3b8010-60e7-f02b-2ba7-b3e96814cd43</td>\n",
       "      <td>453</td>\n",
       "    </tr>\n",
       "    <tr>\n",
       "      <th>385662</th>\n",
       "      <td>504dc86d-0a80-b14c-8c1c-d25a32e4f699</td>\n",
       "      <td>438</td>\n",
       "    </tr>\n",
       "    <tr>\n",
       "      <th>1100077</th>\n",
       "      <td>e392c4d3-5eac-770e-3896-53800589d39d</td>\n",
       "      <td>380</td>\n",
       "    </tr>\n",
       "    <tr>\n",
       "      <th>1052488</th>\n",
       "      <td>de72fec5-e0c8-2a3c-78ae-eb033b3180b7</td>\n",
       "      <td>338</td>\n",
       "    </tr>\n",
       "    <tr>\n",
       "      <th>366243</th>\n",
       "      <td>4c42709a-19f6-056a-b504-1e402dbca126</td>\n",
       "      <td>335</td>\n",
       "    </tr>\n",
       "  </tbody>\n",
       "</table>\n",
       "</div>"
      ],
      "text/plain": [
       "                                     userCode  num_browse\n",
       "1077297  de89bac5-57c6-ecfb-184d-cc4e973c31ac       24308\n",
       "233976   31bb9bf0-8ad5-3e50-f334-e6c7de89bac5        8238\n",
       "304068   3f0b3f64-468d-8411-efee-debb3facd532        1641\n",
       "1152955  eec0a125-d5ab-f692-c501-4713c35c756d        1533\n",
       "875884   b883abba-dc3e-f30d-a571-98fffeffe88f        1362\n",
       "210487   2d023fed-0cad-0f48-c7c8-77ce40e36d0f        1261\n",
       "726185   987779b7-042c-ddea-e43c-5132045fe84e        1138\n",
       "433255   5a5c8ed0-dee9-beff-0a91-4c65d31e3744         954\n",
       "652917   894a4600-3006-06c5-bff9-cd37a3618bc1         806\n",
       "546549   72bd11b1-1880-2468-a691-78a33f0b3f64         790\n",
       "1102271  e400406a-b73d-3e78-d37d-53fcddebccaf         710\n",
       "123333   1aecd8e5-f02b-ba5c-e865-49da43ad8f22         636\n",
       "13001    02e5a154-8e62-a827-db93-bf15c35da2a5         545\n",
       "620662   8258ff86-189d-a4b9-c9f4-105d495167f2         536\n",
       "220802   2f3f0973-0fad-4d83-39b6-d55662c9dcbc         472\n",
       "293933   3d3b8010-60e7-f02b-2ba7-b3e96814cd43         453\n",
       "385662   504dc86d-0a80-b14c-8c1c-d25a32e4f699         438\n",
       "1100077  e392c4d3-5eac-770e-3896-53800589d39d         380\n",
       "1052488  de72fec5-e0c8-2a3c-78ae-eb033b3180b7         338\n",
       "366243   4c42709a-19f6-056a-b504-1e402dbca126         335"
      ]
     },
     "execution_count": 9,
     "metadata": {},
     "output_type": "execute_result"
    }
   ],
   "source": [
    "df_b =  df_b[['userCode','num_browse']].sort_values('num_browse', ascending = False).drop_duplicates(subset = 'userCode')\n",
    "df_b.head(20)"
   ]
  },
  {
   "cell_type": "markdown",
   "metadata": {},
   "source": [
    "We can see that some users have browsed an absurd number of projects. \n",
    "\n",
    "It is up to your discretion as to whether you want to train your model with these users, as some might be bots and do not represent the user behaviour that we are trying to model.\n",
    "\n",
    "A simple way to screen out users who have viewed too many projects is as follow:"
   ]
  },
  {
   "cell_type": "code",
   "execution_count": 10,
   "metadata": {},
   "outputs": [
    {
     "data": {
      "text/html": [
       "<div>\n",
       "<style scoped>\n",
       "    .dataframe tbody tr th:only-of-type {\n",
       "        vertical-align: middle;\n",
       "    }\n",
       "\n",
       "    .dataframe tbody tr th {\n",
       "        vertical-align: top;\n",
       "    }\n",
       "\n",
       "    .dataframe thead th {\n",
       "        text-align: right;\n",
       "    }\n",
       "</style>\n",
       "<table border=\"1\" class=\"dataframe\">\n",
       "  <thead>\n",
       "    <tr style=\"text-align: right;\">\n",
       "      <th></th>\n",
       "      <th>userCode</th>\n",
       "      <th>num_browse</th>\n",
       "    </tr>\n",
       "  </thead>\n",
       "  <tbody>\n",
       "    <tr>\n",
       "      <th>447543</th>\n",
       "      <td>5d5558eb-2bd5-ecff-5ba4-f756af3b0c41</td>\n",
       "      <td>49</td>\n",
       "    </tr>\n",
       "    <tr>\n",
       "      <th>139078</th>\n",
       "      <td>1e337972-3f0f-8583-3c26-83b3ec3d0a20</td>\n",
       "      <td>49</td>\n",
       "    </tr>\n",
       "    <tr>\n",
       "      <th>58951</th>\n",
       "      <td>0cfa6658-0234-ab1d-a919-a89a72a33747</td>\n",
       "      <td>49</td>\n",
       "    </tr>\n",
       "    <tr>\n",
       "      <th>1167889</th>\n",
       "      <td>f1bcd2e3-eed6-b5ca-d8e8-b433cf8db704</td>\n",
       "      <td>49</td>\n",
       "    </tr>\n",
       "    <tr>\n",
       "      <th>647760</th>\n",
       "      <td>882cbb2a-8c24-4624-74f6-252006893e0f</td>\n",
       "      <td>49</td>\n",
       "    </tr>\n",
       "    <tr>\n",
       "      <th>288922</th>\n",
       "      <td>3c48e9b3-daa0-9292-77b9-28f2646c1b74</td>\n",
       "      <td>49</td>\n",
       "    </tr>\n",
       "    <tr>\n",
       "      <th>459696</th>\n",
       "      <td>60163bf9-e667-470c-e124-86b9fd7da9f7</td>\n",
       "      <td>49</td>\n",
       "    </tr>\n",
       "    <tr>\n",
       "      <th>1117962</th>\n",
       "      <td>e716fb5e-516c-e18d-72a2-b430d80c3097</td>\n",
       "      <td>49</td>\n",
       "    </tr>\n",
       "    <tr>\n",
       "      <th>444850</th>\n",
       "      <td>5cafc0f4-afcc-6a91-d84f-0e1e7f023c13</td>\n",
       "      <td>49</td>\n",
       "    </tr>\n",
       "    <tr>\n",
       "      <th>109837</th>\n",
       "      <td>17f0dad0-a448-88ba-a8b8-5e3b82374cf7</td>\n",
       "      <td>49</td>\n",
       "    </tr>\n",
       "    <tr>\n",
       "      <th>138343</th>\n",
       "      <td>1e0bbfba-dc94-7f64-3ee5-8d059ea6d87f</td>\n",
       "      <td>49</td>\n",
       "    </tr>\n",
       "    <tr>\n",
       "      <th>606452</th>\n",
       "      <td>7f8067fe-f1b5-aab2-ded8-7d5319159e40</td>\n",
       "      <td>49</td>\n",
       "    </tr>\n",
       "    <tr>\n",
       "      <th>15833</th>\n",
       "      <td>0369c5ff-0bea-ad58-776c-fee3fd58ece1</td>\n",
       "      <td>49</td>\n",
       "    </tr>\n",
       "    <tr>\n",
       "      <th>14359</th>\n",
       "      <td>0318c873-531e-e512-2f92-443d5f460cee</td>\n",
       "      <td>49</td>\n",
       "    </tr>\n",
       "    <tr>\n",
       "      <th>348897</th>\n",
       "      <td>4883f6f1-4c74-bbb4-a6a9-47d46ef2c463</td>\n",
       "      <td>49</td>\n",
       "    </tr>\n",
       "    <tr>\n",
       "      <th>612476</th>\n",
       "      <td>80bdd3be-b3c1-fcb8-d8e9-7dd3049f2151</td>\n",
       "      <td>49</td>\n",
       "    </tr>\n",
       "    <tr>\n",
       "      <th>411708</th>\n",
       "      <td>5609b626-9e2a-0f5a-2526-75c0d083aa8e</td>\n",
       "      <td>49</td>\n",
       "    </tr>\n",
       "    <tr>\n",
       "      <th>958071</th>\n",
       "      <td>ca65b2df-6990-f57c-3bf5-6eb21d841249</td>\n",
       "      <td>49</td>\n",
       "    </tr>\n",
       "    <tr>\n",
       "      <th>437780</th>\n",
       "      <td>5b4d64d4-9554-9e90-b263-44fa4ec1ccaa</td>\n",
       "      <td>49</td>\n",
       "    </tr>\n",
       "    <tr>\n",
       "      <th>1087924</th>\n",
       "      <td>e0da6282-ba32-373e-8ea9-bd7ceb16d72a</td>\n",
       "      <td>49</td>\n",
       "    </tr>\n",
       "  </tbody>\n",
       "</table>\n",
       "</div>"
      ],
      "text/plain": [
       "                                     userCode  num_browse\n",
       "447543   5d5558eb-2bd5-ecff-5ba4-f756af3b0c41          49\n",
       "139078   1e337972-3f0f-8583-3c26-83b3ec3d0a20          49\n",
       "58951    0cfa6658-0234-ab1d-a919-a89a72a33747          49\n",
       "1167889  f1bcd2e3-eed6-b5ca-d8e8-b433cf8db704          49\n",
       "647760   882cbb2a-8c24-4624-74f6-252006893e0f          49\n",
       "288922   3c48e9b3-daa0-9292-77b9-28f2646c1b74          49\n",
       "459696   60163bf9-e667-470c-e124-86b9fd7da9f7          49\n",
       "1117962  e716fb5e-516c-e18d-72a2-b430d80c3097          49\n",
       "444850   5cafc0f4-afcc-6a91-d84f-0e1e7f023c13          49\n",
       "109837   17f0dad0-a448-88ba-a8b8-5e3b82374cf7          49\n",
       "138343   1e0bbfba-dc94-7f64-3ee5-8d059ea6d87f          49\n",
       "606452   7f8067fe-f1b5-aab2-ded8-7d5319159e40          49\n",
       "15833    0369c5ff-0bea-ad58-776c-fee3fd58ece1          49\n",
       "14359    0318c873-531e-e512-2f92-443d5f460cee          49\n",
       "348897   4883f6f1-4c74-bbb4-a6a9-47d46ef2c463          49\n",
       "612476   80bdd3be-b3c1-fcb8-d8e9-7dd3049f2151          49\n",
       "411708   5609b626-9e2a-0f5a-2526-75c0d083aa8e          49\n",
       "958071   ca65b2df-6990-f57c-3bf5-6eb21d841249          49\n",
       "437780   5b4d64d4-9554-9e90-b263-44fa4ec1ccaa          49\n",
       "1087924  e0da6282-ba32-373e-8ea9-bd7ceb16d72a          49"
      ]
     },
     "execution_count": 10,
     "metadata": {},
     "output_type": "execute_result"
    }
   ],
   "source": [
    "df_b[df_b.num_browse<50].head(20)"
   ]
  },
  {
   "cell_type": "markdown",
   "metadata": {},
   "source": [
    "However, this way of screening might not be what we want. A user that browse a project everyday will have browsed ~60 projects by the end of two months, whereas a user who have browsed ~60 projects within a minute will most likely be a bot(or is not paying attention to any of the content of the page, in which the user should be screened out anyway)"
   ]
  },
  {
   "cell_type": "markdown",
   "metadata": {},
   "source": [
    "### TO DO #3: Write Your Own Data Preprocessing Function\n",
    "Preprocess your data. Please keep all the original columns, but feel free to add more. "
   ]
  },
  {
   "cell_type": "code",
   "execution_count": 11,
   "metadata": {},
   "outputs": [],
   "source": [
    "def preprocess(dataframe):\n",
    "    \n",
    "    #Insert your code here\n",
    "    return dataframe\n",
    "\n",
    "df = pandas.read_csv('userLog_201801_201802_for_participants.csv', sep = ';')\n",
    "df = preprocess(df) "
   ]
  },
  {
   "cell_type": "markdown",
   "metadata": {},
   "source": [
    "## Splitting Training-Testing Data set"
   ]
  },
  {
   "cell_type": "markdown",
   "metadata": {},
   "source": [
    "In order to evaluate your model, you should not train your model with all the data you have, but rather split a part specifically for testing. Whether you want to split by date or not will depend on your preference.\n",
    "\n",
    "Below is an example of how you can split your data by date."
   ]
  },
  {
   "cell_type": "code",
   "execution_count": 12,
   "metadata": {},
   "outputs": [],
   "source": [
    "import datetime\n",
    "#this line takes a while, as we'd be processing 1,000,000++ rows\n",
    "df['date'] = df.apply(lambda row : datetime.datetime(row['year'], row['month'], row['day'], row['hour']).date(), axis=1)\n",
    "df = df[['userCode', 'project_id','date']]\n",
    "test_date = datetime.date(2018,2,14)\n",
    "df_train = df[df.date<test_date]\n",
    "df_test = df[df.date>=test_date]\n",
    "\n",
    "df_test.head(15)\n",
    "\n",
    "df = df_train\n"
   ]
  },
  {
   "cell_type": "markdown",
   "metadata": {},
   "source": [
    "## English and Thai Word Extraction\n",
    "\n",
    "While we have a considerable amount of features explicitly stored in our data file, a significant amount of content can be mined from the textual description of each item. Take an example of project number 1698\n",
    "\n",
    "1698: คอนโดมิเนียมหรูบนชายหาดส่วนตัว บรรยากาศเงียบสงบ ห้องชุดริมทะเล พร้อมสระว่ายน้ำส่วนตัว และระเบียงโค้งใส เชื่อมความต่อเนื่องกับทะเลสีครามภายนอกที่อยู่ห่างเพียง 30 เมตร ตกแต่งเฟอร์นิเจอร์ครบ\n",
    "\n",
    "From the description, we can find out that the project is 1) a condominium 2) has a swimming pool 3) is near a beach 4) has a balcony 5) comes with furniture\n",
    "\n",
    "Unfortunately, words from descriptions in Thai are harder to extract since they are not space-separated like english. \n",
    "\n",
    "In order to extract these features, we will want to extract each word from the text chunk first."
   ]
  },
  {
   "cell_type": "markdown",
   "metadata": {},
   "source": [
    "We will start by using a python library called **pythainlp**."
   ]
  },
  {
   "cell_type": "code",
   "execution_count": 13,
   "metadata": {},
   "outputs": [
    {
     "name": "stdout",
     "output_type": "stream",
     "text": [
      "[nltk_data] Error loading wordnet: <urlopen error [SSL:\n",
      "[nltk_data]     CERTIFICATE_VERIFY_FAILED] certificate verify failed\n",
      "[nltk_data]     (_ssl.c:833)>\n",
      "[nltk_data] Error loading omw: <urlopen error [SSL:\n",
      "[nltk_data]     CERTIFICATE_VERIFY_FAILED] certificate verify failed\n",
      "[nltk_data]     (_ssl.c:833)>\n"
     ]
    }
   ],
   "source": [
    "from pythainlp import word_tokenize\n",
    "from pythainlp.corpus.newthaiword import get_data \n",
    "from pythainlp.corpus import alphabet\n",
    "from pythainlp.corpus import stopwords\n",
    "from stop_words import get_stop_words\n",
    "import string"
   ]
  },
  {
   "cell_type": "markdown",
   "metadata": {},
   "source": [
    "Before we split the string into words, we should remove all punctuations first. \n",
    "The string of all punctuations can be obtained using string.punctuation"
   ]
  },
  {
   "cell_type": "code",
   "execution_count": 14,
   "metadata": {
    "scrolled": true
   },
   "outputs": [
    {
     "name": "stdout",
     "output_type": "stream",
     "text": [
      "คอนโดมิเนียมหรูบนชายหาดส่วนตัว  บรรยากาศเงียบสงบ  ห้องชุดริมทะเล พร้อมสระว่ายน้ำส่วนตัว และระเบียงโค้งใส เชื่อมความต่อเนื่องกับทะเลสีครามภายนอกที่อยู่ห่างเพียง 30 เมตร ตกแต่งเฟอร์นิเจอร์ครบ\n"
     ]
    }
   ],
   "source": [
    "text2 = \"คอนโดมิเนียมหรูบนชายหาดส่วนตัว, บรรยากาศเงียบสงบ, ห้องชุดริมทะเล พร้อมสระว่ายน้ำส่วนตัว และระเบียงโค้งใส เชื่อมความต่อเนื่องกับทะเลสีครามภายนอกที่อยู่ห่างเพียง 30 เมตร ตกแต่งเฟอร์นิเจอร์ครบ\"\n",
    "\n",
    "text = \"\"\n",
    "for c in text2:\n",
    "    if c not in string.punctuation:\n",
    "        text = text+c\n",
    "    else:\n",
    "        text = text+\" \"\n",
    "print(text)"
   ]
  },
  {
   "cell_type": "markdown",
   "metadata": {},
   "source": [
    "Now we will split the text chunk into a list of words using word_tokenize from Pythainlp."
   ]
  },
  {
   "cell_type": "code",
   "execution_count": 15,
   "metadata": {},
   "outputs": [
    {
     "name": "stdout",
     "output_type": "stream",
     "text": [
      "['คอนโดมิเนียม', 'หรู', 'บน', 'ชายหาด', 'ส่วนตัว', '  ', 'บรรยากาศ', 'เงียบสงบ', '  ', 'ห้องชุด', 'ริมทะเล', ' ', 'พร้อม', 'สระว่ายน้ำ', 'ส่วนตัว', ' ', 'และ', 'ระเบียง', 'โค้ง', 'ใส', ' ', 'เชื่อม', 'ความต่อเนื่อง', 'กับ', 'ทะเล', 'สี', 'คราม', 'ภายนอก', 'ที่อยู่', 'ห่าง', 'เพียง', ' ', '30', ' ', 'เมตร', ' ', 'ตกแต่ง', 'เฟอร์นิเจอร์', 'ครบ']\n"
     ]
    }
   ],
   "source": [
    "#newmm stands for Maximum Matching algorithm, you can try a different algorithm such as longest matching\n",
    "tokens = word_tokenize(text, engine='newmm')\n",
    "\n",
    "print(tokens)"
   ]
  },
  {
   "cell_type": "markdown",
   "metadata": {},
   "source": [
    "Note that we have a list of thai words now. However, since we will be using these words as features, some words such as 'และ' or 'กับ' clearly does not belong here. We call these words **stopwords**. Luckily, pythainlp has a list of stopwords that we can use without having to create one ourselves. Let's have a look at our stopwords. "
   ]
  },
  {
   "cell_type": "code",
   "execution_count": 16,
   "metadata": {},
   "outputs": [],
   "source": [
    "words = stopwords.words('thai')\n",
    "#print(words)"
   ]
  },
  {
   "cell_type": "markdown",
   "metadata": {},
   "source": [
    "Just to be safe, you would also want to remove english stopwords. "
   ]
  },
  {
   "cell_type": "code",
   "execution_count": 17,
   "metadata": {},
   "outputs": [
    {
     "name": "stdout",
     "output_type": "stream",
     "text": [
      "This is our text after we remove the stop_words: \n",
      "['คอนโดมิเนียม', 'หรู', 'ชายหาด', 'ส่วนตัว', '  ', 'บรรยากาศ', 'เงียบสงบ', '  ', 'ห้องชุด', 'ริมทะเล', ' ', 'สระว่ายน้ำ', 'ส่วนตัว', ' ', 'ระเบียง', 'โค้ง', 'ใส', ' ', 'เชื่อม', 'ความต่อเนื่อง', 'ทะเล', 'สี', 'คราม', 'ที่อยู่', 'ห่าง', ' ', '30', ' ', 'เมตร', ' ', 'ตกแต่ง', 'เฟอร์นิเจอร์']\n"
     ]
    }
   ],
   "source": [
    "en_stop = get_stop_words('en')\n",
    "\n",
    "#Get rid of stopwords. \n",
    "stopped_tokens = [i for i in tokens if not i in words and not i in en_stop]\n",
    "print('This is our text after we remove the stop_words: ')\n",
    "print(stopped_tokens)\n",
    "\n"
   ]
  },
  {
   "cell_type": "markdown",
   "metadata": {},
   "source": [
    "We can improve this even more with the idea of removing morphology in english. Words like 'cute' and 'cuteness' are more or less about the same meaning. Thus we can reduce it with the porter stemmer library. "
   ]
  },
  {
   "cell_type": "code",
   "execution_count": 18,
   "metadata": {},
   "outputs": [
    {
     "name": "stdout",
     "output_type": "stream",
     "text": [
      "Before:  ['cuteness', 'cute', 'aggressive', 'aggression']\n",
      "After:  ['cute', 'cute', 'aggress', 'aggress']\n"
     ]
    }
   ],
   "source": [
    "from nltk.stem.porter import PorterStemmer\n",
    "p_stemmer = PorterStemmer()\n",
    "ls = ['cuteness', 'cute', 'aggressive', 'aggression']\n",
    "print('Before: ', ls)\n",
    "stemmed_tokens = [p_stemmer.stem(i) for i in ls]\n",
    "print('After: ',stemmed_tokens)"
   ]
  },
  {
   "cell_type": "markdown",
   "metadata": {},
   "source": [
    "Notice that we have reduced them to the same word."
   ]
  },
  {
   "cell_type": "code",
   "execution_count": 19,
   "metadata": {},
   "outputs": [
    {
     "name": "stdout",
     "output_type": "stream",
     "text": [
      "['คอนโดมิเนียม', 'หรู', 'ชายหาด', 'ส่วนตัว', '  ', 'บรรยากาศ', 'เงียบสงบ', '  ', 'ห้องชุด', 'ริมทะเล', ' ', 'สระว่ายน้ำ', 'ส่วนตัว', ' ', 'ระเบียง', 'โค้ง', 'ใส', ' ', 'เชื่อม', 'ความต่อเนื่อง', 'ทะเล', 'สี', 'คราม', 'ที่อยู่', 'ห่าง', ' ', '30', ' ', 'เมตร', ' ', 'ตกแต่ง', 'เฟอร์นิเจอร์']\n"
     ]
    }
   ],
   "source": [
    "stemmed_tokens = [p_stemmer.stem(i) for i in stopped_tokens]\n",
    "print(stemmed_tokens)"
   ]
  },
  {
   "cell_type": "markdown",
   "metadata": {},
   "source": [
    "Next, we will want to remove numbers like '30' out from our data."
   ]
  },
  {
   "cell_type": "code",
   "execution_count": 20,
   "metadata": {},
   "outputs": [
    {
     "name": "stdout",
     "output_type": "stream",
     "text": [
      "['คอนโดมิเนียม', 'หรู', 'ชายหาด', 'ส่วนตัว', '  ', 'บรรยากาศ', 'เงียบสงบ', '  ', 'ห้องชุด', 'ริมทะเล', ' ', 'สระว่ายน้ำ', 'ส่วนตัว', ' ', 'ระเบียง', 'โค้ง', 'ใส', ' ', 'เชื่อม', 'ความต่อเนื่อง', 'ทะเล', 'สี', 'คราม', 'ที่อยู่', 'ห่าง', ' ', ' ', 'เมตร', ' ', 'ตกแต่ง', 'เฟอร์นิเจอร์']\n"
     ]
    }
   ],
   "source": [
    "single_alpha_num_tokens = [i for i in stemmed_tokens if not i in alphabet.get_data() and not i.isnumeric()]\n",
    "print(single_alpha_num_tokens)"
   ]
  },
  {
   "cell_type": "markdown",
   "metadata": {},
   "source": [
    "As you can see, there still exists meaningless element like '  '. \n",
    "\n",
    "Write a python code to get rid of those. "
   ]
  },
  {
   "cell_type": "code",
   "execution_count": 21,
   "metadata": {},
   "outputs": [
    {
     "name": "stdout",
     "output_type": "stream",
     "text": [
      "['คอนโดมิเนียม', 'หรู', 'ชายหาด', 'ส่วนตัว', 'บรรยากาศ', 'เงียบสงบ', 'ห้องชุด', 'ริมทะเล', 'สระว่ายน้ำ', 'ส่วนตัว', 'ระเบียง', 'โค้ง', 'ใส', 'เชื่อม', 'ความต่อเนื่อง', 'ทะเล', 'สี', 'คราม', 'ที่อยู่', 'ห่าง', 'เมตร', 'ตกแต่ง', 'เฟอร์นิเจอร์']\n"
     ]
    }
   ],
   "source": [
    "deletelist = [' ','  ','   ', '    ']\n",
    "tokens = [i for i in single_alpha_num_tokens if not i in deletelist]\n",
    "print(tokens)"
   ]
  },
  {
   "cell_type": "markdown",
   "metadata": {},
   "source": [
    "### TO DO #4: Create Your Own Word Splitting Function\n",
    "\n",
    "Create your own function for splitting Thai chunk of text into a list of words. \n",
    "\n",
    "Your function will take a string as an input, and return a list.\n",
    "\n",
    "Feel free to use the code above or experiment with different methods. \n",
    "\n",
    "Name this function split_word for future use within this notebook."
   ]
  },
  {
   "cell_type": "code",
   "execution_count": 22,
   "metadata": {},
   "outputs": [
    {
     "name": "stdout",
     "output_type": "stream",
     "text": [
      "['bold', 'your', 'space', 'ขนาด', 'ไลฟ์สไตล์', 'ดีไซน์', 'ชีวิต', 'เด่น', 'ไลฟ์สไตล์', 'เดิร์น', 'สถาปัตยกรรม', 'อาคาร', 'เอกลักษณ์', 'ชัดเจน', 'เหมือน', 'คนรุ่นใหม่', 'อาคาร', 'สีเทา', 'ดำ', 'เท่', 'ทางเข้า', 'โถง', 'ต้อนรับ', 'สไตล์', 'extravag', 'hotel', 'lobbi', 'ความโอ่อ่า', 'หรูหรา', 'คอนโดมิเนียม', 'ทั่วไป', 'ตกแต่งภายใน', 'ใส่ใจ', 'รายละเอียด', 'ตอบสนอง', 'ไลฟ์สไตล์', 'คนรุ่นใหม่', 'เฟอร์นิเจอร์', 'ดีไซน์', 'พิเศษ', 'สระว่ายน้ำ', 'ฟิต', 'เน', 'วิว', 'สระว่ายน้ำ', 'สระ', 'ออกกำลังกาย']\n"
     ]
    }
   ],
   "source": [
    "text = 'BOLD Your Space คิด...ให้...ครบ ทุกขนาดไลฟ์สไตล์ ดีไซน์ชีวิตให้เด่น ไลฟ์สไตล์ให้เดิร์นสุดๆ กับสถาปัตยกรรมอาคารที่มีเอกลักษณ์ชัดเจนเหมือนคนรุ่นใหม่เช่นคุณ ด้วยอาคารสีเทาดำ เรียบเท่ ทางเข้าและโถงต้อนรับสไตล์ Extravagant Hotel Lobby ให้ความโอ่อ่า หรูหรา กว่าคอนโดมิเนียมทั่วไป การตกแต่งภายในใส่ใจในทุกรายละเอียด ตอบสนองไลฟ์สไตล์คนรุ่นใหม่ได้สูงสุด ด้วย \\'\\'เฟอร์นิเจอร์ดีไซน์พิเศษ\\'\\' มีสระว่ายน้ำ ฟิตเนสเห็นวิวสระว่ายน้ำ เป็นสระออกกำลังกาย'\n",
    "\n",
    "def split_word(text2):\n",
    "    \n",
    "    #empty this for participants\n",
    "    words = stopwords.words('thai')\n",
    "    en_stop = get_stop_words('en')\n",
    "    p_stemmer = PorterStemmer()\n",
    "    # remove punctuation\n",
    "    text = \"\"\n",
    "    for c in text2:\n",
    "        if c not in string.punctuation:\n",
    "            text = text+c\n",
    "        else:\n",
    "            text = text+\" \"\n",
    "    tokens = word_tokenize(text, engine='newmm')\n",
    "    # remove stop words\n",
    "    stopped_tokens = [i for i in tokens if not i in words and not i in en_stop]\n",
    "    # stem words\n",
    "    stemmed_tokens = [p_stemmer.stem(i) for i in stopped_tokens]\n",
    "    # remove single alphabet and number\n",
    "    single_alpha_num_tokens = [i for i in stemmed_tokens if not i in alphabet.get_data() and not i.isnumeric()]\n",
    "    deletelist = [' ', '  ', '   ','none','    ']\n",
    "    tokens = [i for i in single_alpha_num_tokens if not i in deletelist]\n",
    "    \n",
    "    return tokens\n",
    "\n",
    "print(split_word(text))"
   ]
  },
  {
   "cell_type": "markdown",
   "metadata": {},
   "source": [
    "## Latent Dirichlet Allocation!\n",
    "\n",
    "While we could use each and every of these words as a project feature, consider that there exists way too many words, maybe 100,000 or more words, in total in our ~5,000 projects. Too many features would also mean that it is too computationally expensive. \n",
    "\n",
    "Instead, we will use Latent-Dirichlet Allocation(LDA) to find the topic probability and use those instead of using each word as a feature.\n",
    "\n",
    "We will start by importing a python library called **gensim**.\n",
    "\n",
    "Note that in order to save time(since LDA takes a while to train), we will only train the model with the first 3000 project descriptions in this tutorial. You should use project descriptions from the entire data file to train the model. \n",
    "\n",
    "The model takes an input of a term dictionary and a document-term matrix. We have handled the dictionary and corpus preparation for you, but you can find out about it more [here](https://radimrehurek.com/gensim/models/ldamodel.html).\n",
    "\n",
    "We have also fixed the random state. In reality, you might want to remove this and train the model a couple of times and see which result you like the most. "
   ]
  },
  {
   "cell_type": "code",
   "execution_count": 23,
   "metadata": {},
   "outputs": [],
   "source": [
    "import gensim\n",
    "from gensim import corpora, models"
   ]
  },
  {
   "cell_type": "code",
   "execution_count": 24,
   "metadata": {},
   "outputs": [],
   "source": [
    "inpt_list = []\n",
    "\n",
    "#This is obtaining the project description of the first 1000 projects\n",
    "proj_df = pandas.read_csv('project_description.csv', sep = ';').fillna('None')\n",
    "proj_df = proj_df.sort_values('project_id')\n",
    "proj_df = proj_df[proj_df.project_id<3000]\n",
    "proj_df = proj_df.reset_index(drop = True)\n",
    "for i in range(proj_df.shape[0]):\n",
    "    inpt_list.append(split_word(proj_df.iloc[i]['description_th']))\n",
    "\n",
    "#We will turn this into a term dictionary for our model\n",
    "\n",
    "# turn our tokenized documents into a id <-> term dictionary\n",
    "dictionary = corpora.Dictionary(inpt_list)\n",
    "dict2 = {dictionary[ID]:ID for ID in dictionary.keys()  }\n",
    "\n",
    "# convert tokenized documents into a document-term matrix\n",
    "corpus = [dictionary.doc2bow(text) for text in inpt_list]"
   ]
  },
  {
   "cell_type": "markdown",
   "metadata": {},
   "source": [
    "We will now train the LDA model. \n",
    "\n",
    "Note that the top words for each topic might not make much sense to you, but they are the underlying structure(hence the name 'Latent' in Latent Dirichlet Allocation), you can retrain the model if you are unsure. \n",
    "\n",
    "Also, note that the topics will be different on every execution, so if you obtain a desirable result, load the model from the saved file instead of retraining. "
   ]
  },
  {
   "cell_type": "code",
   "execution_count": 25,
   "metadata": {},
   "outputs": [
    {
     "data": {
      "text/plain": [
       "[(0,\n",
       "  [('โครงการ', 0.017890234),\n",
       "   ('ทำเล', 0.013937737),\n",
       "   ('n', 0.010907104),\n",
       "   ('ถนน', 0.010448515),\n",
       "   ('บ้านเดี่ยว', 0.0079713855),\n",
       "   ('สะดวกสบาย', 0.0076411124),\n",
       "   ('แหล่ง', 0.007459977),\n",
       "   ('ศักยภาพ', 0.0072532957)]),\n",
       " (1,\n",
       "  [('นิ', 0.049044117),\n",
       "   ('ยู', 0.046696067),\n",
       "   ('ชั้น', 0.040654164),\n",
       "   ('อาคาร', 0.03313868),\n",
       "   ('จำนวน', 0.031437438),\n",
       "   ('เมตร', 0.020785388),\n",
       "   ('คอนโดมิเนียม', 0.019199809),\n",
       "   ('ห้องชุด', 0.012328164)]),\n",
       " (2,\n",
       "  [('ชั้น', 0.020443454),\n",
       "   ('ชีวิต', 0.01453514),\n",
       "   ('อาคาร', 0.011951577),\n",
       "   ('รูปแบบ', 0.011647455),\n",
       "   ('n', 0.011393744),\n",
       "   ('ห้อง', 0.011099726),\n",
       "   ('ออกแบบ', 0.009578501),\n",
       "   ('พื้นที่', 0.009307982)]),\n",
       " (3,\n",
       "  [('รถไฟฟ้า', 0.02389658),\n",
       "   ('เดินทาง', 0.022971153),\n",
       "   ('สถานี', 0.022267958),\n",
       "   ('ถนน', 0.017102854),\n",
       "   ('สาย', 0.0144128315),\n",
       "   ('ทำเล', 0.012076354),\n",
       "   ('คอนโด', 0.011703157),\n",
       "   ('ชีวิต', 0.011432383)]),\n",
       " (4,\n",
       "  [('บ้าน', 0.032400567),\n",
       "   ('พื้นที่', 0.023777803),\n",
       "   ('ใช้สอย', 0.016938018),\n",
       "   ('ห้องนอน', 0.01673867),\n",
       "   ('บ้านเดี่ยว', 0.016211523),\n",
       "   ('ชั้น', 0.015753668),\n",
       "   ('สไตล์', 0.014918974),\n",
       "   ('ห้องน้ำ', 0.012694246)]),\n",
       " (5,\n",
       "  [('ถนน', 0.014880343),\n",
       "   ('ทางด่วน', 0.008109441),\n",
       "   ('บรรยากาศ', 0.0075309873),\n",
       "   ('พื้นที่', 0.0073176594),\n",
       "   ('ชีวิต', 0.00730051),\n",
       "   ('บ้าน', 0.0069188606),\n",
       "   ('สะดวก', 0.006420966),\n",
       "   ('โครงการ', 0.0062362193)]),\n",
       " (6,\n",
       "  [('โครงการ', 0.023540948),\n",
       "   ('บ้าน', 0.022355247),\n",
       "   ('บ้านเดี่ยว', 0.017456805),\n",
       "   ('คุณภาพ', 0.013748242),\n",
       "   ('เน', 0.013152795),\n",
       "   ('พื้นที่', 0.012355952),\n",
       "   ('ระบบ', 0.010814493),\n",
       "   ('สไตล์', 0.010560765)]),\n",
       " (7,\n",
       "  [('ธรรมชาติ', 0.018624976),\n",
       "   ('ชีวิต', 0.016665423),\n",
       "   ('สไตล์', 0.01260169),\n",
       "   ('ความสุข', 0.012047218),\n",
       "   ('บ้าน', 0.010307246),\n",
       "   ('สัมผัส', 0.0100219),\n",
       "   ('ระดับ', 0.009569066),\n",
       "   ('ลงตัว', 0.008564895)])]"
      ]
     },
     "execution_count": 25,
     "metadata": {},
     "output_type": "execute_result"
    }
   ],
   "source": [
    "# generate LDA model\n",
    "num_top = 8\n",
    "num_words = 8\n",
    "num_it = 50\n",
    "ldamodel = gensim.models.ldamodel.LdaModel(corpus,num_top, id2word = dictionary, random_state = 2, passes=num_it)\n",
    "ldamodel.show_topics(num_top, num_words, log=True, formatted=False)\n",
    "\n",
    "#ldamodel.save('HDTwork/lda' + str(num_top) + '_Topics_' + str(num_it) + '_Passes.model')\n"
   ]
  },
  {
   "cell_type": "markdown",
   "metadata": {},
   "source": [
    "We can see that the LDA model nicely generated a topic probability profile for us. \n",
    "\n",
    "We will now try to get a probability from a text. \n"
   ]
  },
  {
   "cell_type": "code",
   "execution_count": 26,
   "metadata": {},
   "outputs": [
    {
     "name": "stdout",
     "output_type": "stream",
     "text": [
      "บ้านหลังใหญ่ในสวน ท่ามกลางธรรมชาติ แวดล้อมด้วยสวนป่าธรรมชาติ ต้นไม้ และสายน้ำ ต้นไม้ใหญ่เป็นไม้จากป่า ปลูกร่วม 15 ปี สามารถเข้าถึงสวนได้อย่างสะดวกจากที่พักอาศัย แบ่งพื้นที่ในสวนเป็นส่วนต่าง ๆ ล้อมลานกิจกรรมขนาดใหญ่ สถานที่ออกกำลังกาย ลานสนามหญ้าโล่งกว้างริมน้ำ สำหรับนั่งพักผ่อนชมสวนได้ตลอดเวลา\n",
      "[(4, 0.24236701), (7, 0.64153814)]\n",
      "-------------------------------------\n",
      "โครงการเป็นอาคารพักอาศัยสูง 16 ชั้น จำนวน 2 อาคาร และอาคารคลับเฮ้าส์ จำนวน 448 ยูนิต+ 3 ยูนิตเพื่อการพาณิชย์ \n",
      "[(1, 0.84598225), (6, 0.10041095)]\n",
      "-------------------------------------\n",
      "ทาวน์โฮมหน้ากว้าง ให้ความรู้สึกเหมือนบ้านเดี่ยว ออกแบบเพดานสูงทำให้รู้สึกโปร่สบาย ไม่อึดอัด ออกแบบพื้นที่ใช่สอยได้อย่างเต็มพื้นที่\n",
      "[(4, 0.8107192)]\n",
      "-------------------------------------\n",
      "ค้นพบมุมมองใหม่ของการใช้ชีวิต กับดีไซต์ที่ตอบสนองแนวคิดที่แตกต่าง บนทำเลที่สะดวกสบาย ใกล้ท่าเรือแหลมฉบัง\n",
      "[(0, 0.6729825), (4, 0.2519341)]\n",
      "-------------------------------------\n"
     ]
    }
   ],
   "source": [
    "#ldamodel = models.LdaModel.load('HDTwork/lda' + str(num_top) + '_Topics_' + str(num_it) + '_Passes.model')\n",
    "def print_topic(text):\n",
    "    list = split_word(text)\n",
    "    bow = dictionary.doc2bow(list)\n",
    "    temp = ldamodel.get_document_topics(bow,minimum_probability=0.1, minimum_phi_value=None,per_word_topics=False)\n",
    "    print(text)\n",
    "    print(temp)\n",
    "    print('-------------------------------------')\n",
    "text = [0]*4\n",
    "text[0] = 'บ้านหลังใหญ่ในสวน ท่ามกลางธรรมชาติ แวดล้อมด้วยสวนป่าธรรมชาติ ต้นไม้ และสายน้ำ ต้นไม้ใหญ่เป็นไม้จากป่า ปลูกร่วม 15 ปี สามารถเข้าถึงสวนได้อย่างสะดวกจากที่พักอาศัย แบ่งพื้นที่ในสวนเป็นส่วนต่าง ๆ ล้อมลานกิจกรรมขนาดใหญ่ สถานที่ออกกำลังกาย ลานสนามหญ้าโล่งกว้างริมน้ำ สำหรับนั่งพักผ่อนชมสวนได้ตลอดเวลา'\n",
    "text[1] = 'โครงการเป็นอาคารพักอาศัยสูง 16 ชั้น จำนวน 2 อาคาร และอาคารคลับเฮ้าส์ จำนวน 448 ยูนิต+ 3 ยูนิตเพื่อการพาณิชย์ '\n",
    "text[2] = 'ทาวน์โฮมหน้ากว้าง ให้ความรู้สึกเหมือนบ้านเดี่ยว ออกแบบเพดานสูงทำให้รู้สึกโปร่สบาย ไม่อึดอัด ออกแบบพื้นที่ใช่สอยได้อย่างเต็มพื้นที่'\n",
    "text[3] = 'ค้นพบมุมมองใหม่ของการใช้ชีวิต กับดีไซต์ที่ตอบสนองแนวคิดที่แตกต่าง บนทำเลที่สะดวกสบาย ใกล้ท่าเรือแหลมฉบัง'\n",
    "\n",
    "for i in range(4):\n",
    "    print_topic(text[i])"
   ]
  },
  {
   "cell_type": "markdown",
   "metadata": {},
   "source": [
    "We can use the values that the LDA gave us as the features of the project. \n",
    "\n",
    "Note that the LDA gave us probabilities, not just what topic the project most likely fall under, thus we can see that our text is a little bit of other topics as well."
   ]
  },
  {
   "cell_type": "markdown",
   "metadata": {},
   "source": [
    "## User Profile\n",
    "\n",
    "Now that we can create a LDA topic profile for every projects, we will want to find a way to capture the interest of our user. \n",
    "\n",
    "One simple way is to average the user profile, which is what we will do in this exercise.  \n",
    "\n",
    "Suppose that user '0003d990-37d2-140c-a68e-060bc1e81ea5' has browsed 3 projects in 5 browsing: \n",
    "\n",
    "\n"
   ]
  },
  {
   "cell_type": "code",
   "execution_count": 27,
   "metadata": {},
   "outputs": [
    {
     "name": "stdout",
     "output_type": "stream",
     "text": [
      "                               userCode  project_id\n",
      "0  0003d990-37d2-140c-a68e-060bc1e81ea5        9334\n",
      "1  0003d990-37d2-140c-a68e-060bc1e81ea5        8742\n",
      "2  0003d990-37d2-140c-a68e-060bc1e81ea5        8742\n",
      "3  0003d990-37d2-140c-a68e-060bc1e81ea5        9334\n",
      "4  0003d990-37d2-140c-a68e-060bc1e81ea5        8631\n"
     ]
    }
   ],
   "source": [
    "df = pandas.read_csv('userLog_201801_201802_for_participants.csv', sep = ';')\n",
    "\n",
    "#Only keep the part where our userCode is the desire user\n",
    "df = df[df.userCode == '0003d990-37d2-140c-a68e-060bc1e81ea5']\n",
    "\n",
    "#Get rid of the unnecessary columns\n",
    "df = df[['userCode','project_id']]\n",
    "df = df.reset_index(drop = True)\n",
    "print(df)\n",
    "\n",
    "#note that we use 0.0 instead of 0 to indicate that this field should store value of the type float, not int.\n",
    "topic_col = []\n",
    "for i in range(num_top):\n",
    "    df['Topic '+str(i)] = 0.0\n",
    "    topic_col.append('Topic '+str(i))\n"
   ]
  },
  {
   "cell_type": "markdown",
   "metadata": {},
   "source": [
    "### TO DO #5:\n",
    "1) Open the project description file down below. The file name is project_description.csv \n",
    "\n",
    "Note that there exists empty description for some projects. Use .fillna(' ') to fill NaN with something else."
   ]
  },
  {
   "cell_type": "code",
   "execution_count": 28,
   "metadata": {},
   "outputs": [
    {
     "data": {
      "text/html": [
       "<div>\n",
       "<style scoped>\n",
       "    .dataframe tbody tr th:only-of-type {\n",
       "        vertical-align: middle;\n",
       "    }\n",
       "\n",
       "    .dataframe tbody tr th {\n",
       "        vertical-align: top;\n",
       "    }\n",
       "\n",
       "    .dataframe thead th {\n",
       "        text-align: right;\n",
       "    }\n",
       "</style>\n",
       "<table border=\"1\" class=\"dataframe\">\n",
       "  <thead>\n",
       "    <tr style=\"text-align: right;\">\n",
       "      <th></th>\n",
       "      <th>project_id</th>\n",
       "      <th>description_th</th>\n",
       "    </tr>\n",
       "  </thead>\n",
       "  <tbody>\n",
       "    <tr>\n",
       "      <th>0</th>\n",
       "      <td>4</td>\n",
       "      <td>ตั้งอยู่ติดถนนรังสิต-นครนายก  จัดแบ่งผังโครงกา...</td>\n",
       "    </tr>\n",
       "    <tr>\n",
       "      <th>1</th>\n",
       "      <td>24</td>\n",
       "      <td>Balance Your Life เลือกคุณภาพชีวิตสมดุลลงตัวใน...</td>\n",
       "    </tr>\n",
       "    <tr>\n",
       "      <th>2</th>\n",
       "      <td>29</td>\n",
       "      <td>None</td>\n",
       "    </tr>\n",
       "    <tr>\n",
       "      <th>3</th>\n",
       "      <td>41</td>\n",
       "      <td>บ้านเดี่ยวเล่นระดับ สไตล์ Modren Contemporary ...</td>\n",
       "    </tr>\n",
       "    <tr>\n",
       "      <th>4</th>\n",
       "      <td>44</td>\n",
       "      <td>รูปแบบชีวิตที่มีคุณค่า หรูหรา สง่างาม สะท้อนภา...</td>\n",
       "    </tr>\n",
       "    <tr>\n",
       "      <th>5</th>\n",
       "      <td>45</td>\n",
       "      <td>พาร์คเวย์ ชาเล่ต์ โครงการที่มากกว่าความใส่ใจ เ...</td>\n",
       "    </tr>\n",
       "    <tr>\n",
       "      <th>6</th>\n",
       "      <td>73</td>\n",
       "      <td>โดดเด่นด้วยสไตล์ Thai Contemporary ที่สวยงามลง...</td>\n",
       "    </tr>\n",
       "    <tr>\n",
       "      <th>7</th>\n",
       "      <td>95</td>\n",
       "      <td>สำหรับทุกครอบครัวที่ต้องการความเป็นสัดส่วนเพื่...</td>\n",
       "    </tr>\n",
       "    <tr>\n",
       "      <th>8</th>\n",
       "      <td>115</td>\n",
       "      <td>บ้านเดี่ยวที่ดินแปลงใหญ่ในราคาคุ้มค่า บนทำเลถน...</td>\n",
       "    </tr>\n",
       "    <tr>\n",
       "      <th>9</th>\n",
       "      <td>133</td>\n",
       "      <td>ด้วยศักยภาพสูงสุดของพื้นที่สีเขียวรอบโครงการ เ...</td>\n",
       "    </tr>\n",
       "    <tr>\n",
       "      <th>10</th>\n",
       "      <td>141</td>\n",
       "      <td>สัมผัสความต่างที่เหนือกว่าของการใช้ชีวิตในสังค...</td>\n",
       "    </tr>\n",
       "    <tr>\n",
       "      <th>11</th>\n",
       "      <td>156</td>\n",
       "      <td>ความแตกต่างของบ้านหลากดีไซน์</td>\n",
       "    </tr>\n",
       "    <tr>\n",
       "      <th>12</th>\n",
       "      <td>157</td>\n",
       "      <td>ความร่มรื่นของบ้านเดี่ยว ในบรรยากาศริมฝั่งเจ้า...</td>\n",
       "    </tr>\n",
       "    <tr>\n",
       "      <th>13</th>\n",
       "      <td>161</td>\n",
       "      <td>ก่อสร้างด้วยวัสดุมีคุณภาพ มีแบบบ้านให้ลูกค้าเล...</td>\n",
       "    </tr>\n",
       "    <tr>\n",
       "      <th>14</th>\n",
       "      <td>189</td>\n",
       "      <td>บ้านเดี่ยวใจกลางเมือง สามารถเข้า-ออกได้ 2 ทาง ...</td>\n",
       "    </tr>\n",
       "    <tr>\n",
       "      <th>15</th>\n",
       "      <td>192</td>\n",
       "      <td>บ้านหรู ด้วยชีวิตที่เหนือกว่าทุกความประทับใจที...</td>\n",
       "    </tr>\n",
       "    <tr>\n",
       "      <th>16</th>\n",
       "      <td>206</td>\n",
       "      <td>Balance your Life เลือกคุณภาพชีวิตสมดุลลงตัวใน...</td>\n",
       "    </tr>\n",
       "    <tr>\n",
       "      <th>17</th>\n",
       "      <td>208</td>\n",
       "      <td>None</td>\n",
       "    </tr>\n",
       "    <tr>\n",
       "      <th>18</th>\n",
       "      <td>219</td>\n",
       "      <td>อาณาจักรบ้านสวยบรรยากาศทะเลสาบ เพื่อความสุขสมบ...</td>\n",
       "    </tr>\n",
       "    <tr>\n",
       "      <th>19</th>\n",
       "      <td>223</td>\n",
       "      <td>บ้านเดี่ยว บ้านแฝด ที่สร้างด้วยดีไซน์ที่คำนึงถ...</td>\n",
       "    </tr>\n",
       "  </tbody>\n",
       "</table>\n",
       "</div>"
      ],
      "text/plain": [
       "    project_id                                     description_th\n",
       "0            4  ตั้งอยู่ติดถนนรังสิต-นครนายก  จัดแบ่งผังโครงกา...\n",
       "1           24  Balance Your Life เลือกคุณภาพชีวิตสมดุลลงตัวใน...\n",
       "2           29                                               None\n",
       "3           41  บ้านเดี่ยวเล่นระดับ สไตล์ Modren Contemporary ...\n",
       "4           44  รูปแบบชีวิตที่มีคุณค่า หรูหรา สง่างาม สะท้อนภา...\n",
       "5           45  พาร์คเวย์ ชาเล่ต์ โครงการที่มากกว่าความใส่ใจ เ...\n",
       "6           73  โดดเด่นด้วยสไตล์ Thai Contemporary ที่สวยงามลง...\n",
       "7           95  สำหรับทุกครอบครัวที่ต้องการความเป็นสัดส่วนเพื่...\n",
       "8          115  บ้านเดี่ยวที่ดินแปลงใหญ่ในราคาคุ้มค่า บนทำเลถน...\n",
       "9          133  ด้วยศักยภาพสูงสุดของพื้นที่สีเขียวรอบโครงการ เ...\n",
       "10         141  สัมผัสความต่างที่เหนือกว่าของการใช้ชีวิตในสังค...\n",
       "11         156                       ความแตกต่างของบ้านหลากดีไซน์\n",
       "12         157  ความร่มรื่นของบ้านเดี่ยว ในบรรยากาศริมฝั่งเจ้า...\n",
       "13         161  ก่อสร้างด้วยวัสดุมีคุณภาพ มีแบบบ้านให้ลูกค้าเล...\n",
       "14         189  บ้านเดี่ยวใจกลางเมือง สามารถเข้า-ออกได้ 2 ทาง ...\n",
       "15         192  บ้านหรู ด้วยชีวิตที่เหนือกว่าทุกความประทับใจที...\n",
       "16         206  Balance your Life เลือกคุณภาพชีวิตสมดุลลงตัวใน...\n",
       "17         208                                               None\n",
       "18         219  อาณาจักรบ้านสวยบรรยากาศทะเลสาบ เพื่อความสุขสมบ...\n",
       "19         223  บ้านเดี่ยว บ้านแฝด ที่สร้างด้วยดีไซน์ที่คำนึงถ..."
      ]
     },
     "execution_count": 28,
     "metadata": {},
     "output_type": "execute_result"
    }
   ],
   "source": [
    "#Empty this cell for participants\n",
    "\n",
    "proj_df = pandas.read_csv('project_description.csv', sep = ';').fillna('None')\n",
    "proj_df = proj_df.sort_values('project_id')\n",
    "proj_df = proj_df.reset_index(drop = True)\n",
    "proj_df.head(20)"
   ]
  },
  {
   "cell_type": "markdown",
   "metadata": {},
   "source": [
    "2) Obtain the project description for the six projects that the user have browsed.\n",
    "Preferably store them in a list for future reusability. "
   ]
  },
  {
   "cell_type": "code",
   "execution_count": 29,
   "metadata": {},
   "outputs": [],
   "source": [
    "textList = []\n",
    "\n",
    "#Insert your code here, get all the Project descriptions that the user have browsed into textList\n",
    "browseList = []\n",
    "for i in range(df.shape[0]):\n",
    "    browseList.append(df.iloc[i]['project_id'])\n",
    "    \n",
    "proj_df = proj_df.set_index('project_id')\n",
    "for i, proj in enumerate(browseList):\n",
    "    textList.append(proj_df.loc[proj]['description_th'])\n"
   ]
  },
  {
   "cell_type": "markdown",
   "metadata": {},
   "source": [
    "3) Obtain the topic probability for each of the project. \n",
    "Hint: Review how to use get_document_topics in the LDA part of this tutorial"
   ]
  },
  {
   "cell_type": "code",
   "execution_count": 30,
   "metadata": {},
   "outputs": [
    {
     "data": {
      "text/html": [
       "<div>\n",
       "<style scoped>\n",
       "    .dataframe tbody tr th:only-of-type {\n",
       "        vertical-align: middle;\n",
       "    }\n",
       "\n",
       "    .dataframe tbody tr th {\n",
       "        vertical-align: top;\n",
       "    }\n",
       "\n",
       "    .dataframe thead th {\n",
       "        text-align: right;\n",
       "    }\n",
       "</style>\n",
       "<table border=\"1\" class=\"dataframe\">\n",
       "  <thead>\n",
       "    <tr style=\"text-align: right;\">\n",
       "      <th></th>\n",
       "      <th>userCode</th>\n",
       "      <th>project_id</th>\n",
       "      <th>Topic 0</th>\n",
       "      <th>Topic 1</th>\n",
       "      <th>Topic 2</th>\n",
       "      <th>Topic 3</th>\n",
       "      <th>Topic 4</th>\n",
       "      <th>Topic 5</th>\n",
       "      <th>Topic 6</th>\n",
       "      <th>Topic 7</th>\n",
       "    </tr>\n",
       "  </thead>\n",
       "  <tbody>\n",
       "    <tr>\n",
       "      <th>0</th>\n",
       "      <td>0003d990-37d2-140c-a68e-060bc1e81ea5</td>\n",
       "      <td>9334</td>\n",
       "      <td>0.055730</td>\n",
       "      <td>0.0</td>\n",
       "      <td>0.000000</td>\n",
       "      <td>0.118378</td>\n",
       "      <td>0.056521</td>\n",
       "      <td>0.0</td>\n",
       "      <td>0.0</td>\n",
       "      <td>0.756195</td>\n",
       "    </tr>\n",
       "    <tr>\n",
       "      <th>1</th>\n",
       "      <td>0003d990-37d2-140c-a68e-060bc1e81ea5</td>\n",
       "      <td>8742</td>\n",
       "      <td>0.000000</td>\n",
       "      <td>0.0</td>\n",
       "      <td>0.244907</td>\n",
       "      <td>0.000000</td>\n",
       "      <td>0.000000</td>\n",
       "      <td>0.0</td>\n",
       "      <td>0.0</td>\n",
       "      <td>0.717549</td>\n",
       "    </tr>\n",
       "    <tr>\n",
       "      <th>2</th>\n",
       "      <td>0003d990-37d2-140c-a68e-060bc1e81ea5</td>\n",
       "      <td>8742</td>\n",
       "      <td>0.000000</td>\n",
       "      <td>0.0</td>\n",
       "      <td>0.244910</td>\n",
       "      <td>0.000000</td>\n",
       "      <td>0.000000</td>\n",
       "      <td>0.0</td>\n",
       "      <td>0.0</td>\n",
       "      <td>0.717546</td>\n",
       "    </tr>\n",
       "    <tr>\n",
       "      <th>3</th>\n",
       "      <td>0003d990-37d2-140c-a68e-060bc1e81ea5</td>\n",
       "      <td>9334</td>\n",
       "      <td>0.055757</td>\n",
       "      <td>0.0</td>\n",
       "      <td>0.000000</td>\n",
       "      <td>0.118372</td>\n",
       "      <td>0.056520</td>\n",
       "      <td>0.0</td>\n",
       "      <td>0.0</td>\n",
       "      <td>0.756175</td>\n",
       "    </tr>\n",
       "    <tr>\n",
       "      <th>4</th>\n",
       "      <td>0003d990-37d2-140c-a68e-060bc1e81ea5</td>\n",
       "      <td>8631</td>\n",
       "      <td>0.000000</td>\n",
       "      <td>0.0</td>\n",
       "      <td>0.272017</td>\n",
       "      <td>0.000000</td>\n",
       "      <td>0.228989</td>\n",
       "      <td>0.0</td>\n",
       "      <td>0.0</td>\n",
       "      <td>0.482538</td>\n",
       "    </tr>\n",
       "  </tbody>\n",
       "</table>\n",
       "</div>"
      ],
      "text/plain": [
       "                               userCode  project_id   Topic 0  Topic 1  \\\n",
       "0  0003d990-37d2-140c-a68e-060bc1e81ea5        9334  0.055730      0.0   \n",
       "1  0003d990-37d2-140c-a68e-060bc1e81ea5        8742  0.000000      0.0   \n",
       "2  0003d990-37d2-140c-a68e-060bc1e81ea5        8742  0.000000      0.0   \n",
       "3  0003d990-37d2-140c-a68e-060bc1e81ea5        9334  0.055757      0.0   \n",
       "4  0003d990-37d2-140c-a68e-060bc1e81ea5        8631  0.000000      0.0   \n",
       "\n",
       "    Topic 2   Topic 3   Topic 4  Topic 5  Topic 6   Topic 7  \n",
       "0  0.000000  0.118378  0.056521      0.0      0.0  0.756195  \n",
       "1  0.244907  0.000000  0.000000      0.0      0.0  0.717549  \n",
       "2  0.244910  0.000000  0.000000      0.0      0.0  0.717546  \n",
       "3  0.000000  0.118372  0.056520      0.0      0.0  0.756175  \n",
       "4  0.272017  0.000000  0.228989      0.0      0.0  0.482538  "
      ]
     },
     "execution_count": 30,
     "metadata": {},
     "output_type": "execute_result"
    }
   ],
   "source": [
    "for i, text in enumerate(textList):\n",
    "    #Insert your code here\n",
    "    list = split_word(text)\n",
    "    bow = dictionary.doc2bow(list)\n",
    "    topic_prob = ldamodel.get_document_topics(bow,minimum_probability=None, minimum_phi_value=None,per_word_topics=False)\n",
    "    for j in range(len(topic_prob)):\n",
    "        df.at[i, 'Topic '+str(topic_prob[j][0])] = topic_prob[j][1]\n",
    "df.head()\n"
   ]
  },
  {
   "cell_type": "markdown",
   "metadata": {},
   "source": [
    "We will then find the user's interest by simple averaging.\n",
    "\n",
    "Note that this is for simplicity. You should try weighted average or other methods that you think captures the interest of the user well.  "
   ]
  },
  {
   "cell_type": "code",
   "execution_count": 31,
   "metadata": {},
   "outputs": [
    {
     "name": "stdout",
     "output_type": "stream",
     "text": [
      "                                       Topic 0  Topic 1   Topic 2  Topic 3  \\\n",
      "userCode                                                                     \n",
      "0003d990-37d2-140c-a68e-060bc1e81ea5  0.022297      0.0  0.152367  0.04735   \n",
      "\n",
      "                                       Topic 4  Topic 5  Topic 6   Topic 7  \n",
      "userCode                                                                    \n",
      "0003d990-37d2-140c-a68e-060bc1e81ea5  0.068406      0.0      0.0  0.686001  \n"
     ]
    }
   ],
   "source": [
    "df = df.groupby('userCode')[topic_col].agg('mean')\n",
    "print(df)\n",
    "\n",
    "#obtain the user vector list from the dataframe\n",
    "user_vector = df.iloc[[0]].values.tolist().pop(0)"
   ]
  },
  {
   "cell_type": "markdown",
   "metadata": {},
   "source": [
    "## Cosine Similarity\n"
   ]
  },
  {
   "cell_type": "markdown",
   "metadata": {},
   "source": [
    "Suppose we have two vectors. We want to know how close these two vectors are.\n",
    "\n",
    "One simple way is to find the angle between the two vector. \n",
    "\n",
    "If the two vectors point in the same direction, then they are similar. \n",
    "\n",
    "Since cosine of the angle between the angle will be close to one if the vectors align and zero if the vectors are perpendicular. \n",
    "\n",
    "Recall from mathematics that for two vector U and V, \n",
    "\n",
    "$ U\\dot V = |U||V|cos(\\theta) $\n",
    "        \n",
    " $cos(\\theta) = \\frac{U\\dot V }{|U||V|}$\n",
    "  \n",
    " ### TO DO #6\n",
    " \n",
    " 1) Write a function for finding cosine similarity. \n",
    " \n",
    " Name it cosine_sim(a, b) (a and b are of type list of any length)\n",
    " \n",
    " We have a few testing script for you to try out."
   ]
  },
  {
   "cell_type": "code",
   "execution_count": 32,
   "metadata": {},
   "outputs": [],
   "source": [
    "import math\n",
    "\n",
    "def cosine_sim( list1, list2):\n",
    "    \n",
    "    #Empty below for participants\n",
    "    size_l1 = 0\n",
    "    size_l2 = 0\n",
    "    dot_sum = 0\n",
    "    if len(list1)!=len(list2):\n",
    "        return 0\n",
    "    for i in range(0, len(list1)):\n",
    "        size_l1+=list1[i]**2\n",
    "        size_l2+=list2[i]**2\n",
    "        dot_sum+=list1[i]*list2[i]\n",
    "    if(size_l1==0 or size_l2==0):\n",
    "        return 0\n",
    "    return dot_sum/(math.sqrt(size_l1*size_l2)) "
   ]
  },
  {
   "cell_type": "code",
   "execution_count": 33,
   "metadata": {},
   "outputs": [
    {
     "name": "stdout",
     "output_type": "stream",
     "text": [
      "Test 1 Passed\n",
      "Test 2 Passed\n",
      "Test 3 Passed\n"
     ]
    }
   ],
   "source": [
    "a = [1,1]\n",
    "b = [0.5,0.5]\n",
    "if(cosine_sim(a,b) == 1.0):\n",
    "    print('Test 1 Passed')\n",
    "else:\n",
    "    print('Test 1 Failed')\n",
    "a = [1,2,3]\n",
    "b = [2,1,3]\n",
    "if(cosine_sim(a,b) == 0.9285714285714286):\n",
    "    print('Test 2 Passed')\n",
    "else:\n",
    "    print('Test 2 Failed')\n",
    "a = [1,0,1]\n",
    "b = [0,1,0]\n",
    "if(cosine_sim(a,b) == 0.0):\n",
    "    print('Test 3 Passed')\n",
    "else:\n",
    "    print('Test 3 Failed')"
   ]
  },
  {
   "cell_type": "markdown",
   "metadata": {},
   "source": [
    "Now we will compare the projects with cosine similarity to recommend a project based on the cosine similarity of LDA topics. "
   ]
  },
  {
   "cell_type": "code",
   "execution_count": 34,
   "metadata": {},
   "outputs": [
    {
     "name": "stdout",
     "output_type": "stream",
     "text": [
      "Below is our Top 5 Recommendations and their cosine similarity to our user profile\n",
      "9334 0.9718599378019656\n",
      "9335 0.9680029879870272\n",
      "9349 0.9589027765862169\n",
      "9333 0.8845079484328362\n",
      "9306 0.8804710733236598\n"
     ]
    }
   ],
   "source": [
    "#obtain ~50 projects for testing\n",
    "proj_df = pandas.read_csv('project_description.csv', sep = ';').fillna('None')\n",
    "proj_df = proj_df.sort_values('project_id')\n",
    "proj_df = proj_df[proj_df.project_id>9300]\n",
    "proj_df = proj_df[proj_df.project_id<9350]\n",
    "proj_df = proj_df.reset_index(drop = True)\n",
    "\n",
    "#Create a column for each of our topic\n",
    "for i in range(num_top):\n",
    "    proj_df['Topic '+str(i)] = 0.0\n",
    "\n",
    "#Get all projects in our testing set\n",
    "browseList = []\n",
    "for i in range(proj_df.shape[0]):\n",
    "    browseList.append(proj_df.iloc[i]['project_id'])\n",
    "\n",
    "#get all the project description from project in our testing set\n",
    "textList = []\n",
    "proj_df = proj_df.set_index('project_id')\n",
    "for i, proj in enumerate(browseList):\n",
    "    textList.append(proj_df.loc[proj]['description_th'])\n",
    "    \n",
    "#get the LDA topic distribution for all of our testing projects\n",
    "for i, text in enumerate(textList):\n",
    "    list = split_word(text)\n",
    "    bow = dictionary.doc2bow(list)\n",
    "    topic_prob = ldamodel.get_document_topics(bow,minimum_probability=None, minimum_phi_value=None,per_word_topics=False)\n",
    "    for j in range(len(topic_prob)):\n",
    "        proj_df.at[browseList[i], 'Topic '+str(topic_prob[j][0])] = topic_prob[j][1]\n",
    "\n",
    "#compute the cosine similarity\n",
    "dist_list = [0.0]*len(browseList)\n",
    "for i, proj in enumerate(browseList):\n",
    "    item_vector = proj_df.loc[[proj]].values.tolist().pop(0)\n",
    "    item_vector.pop(0)\n",
    "    dist_list[i] += cosine_sim(user_vector, item_vector)\n",
    "    \n",
    "def argmax(list):\n",
    "        max = -1*float(\"inf\")\n",
    "        ind = 0\n",
    "        for i in range(0, len(list)):\n",
    "            if list[i] > max:\n",
    "                ind = i\n",
    "                max = list[i]\n",
    "        return ind\n",
    "    \n",
    "print('Below is our Top 5 Recommendations and their cosine similarity to our user profile')\n",
    "for i in range(0,5):\n",
    "    recom = argmax(dist_list)\n",
    "    print(browseList[recom], dist_list[recom])\n",
    "    dist_list[recom] = 0.0"
   ]
  },
  {
   "cell_type": "markdown",
   "metadata": {},
   "source": [
    "Our code above shows the top 5 recommendations from ~50 projects with cosine similarity.\n",
    "\n",
    "You should see 9334 as one of our top recommended projects. \n",
    "\n",
    "This is because the user really did browse project 9334 (and in fact, twice) so our user profile which is derived from the browsing history should reflect this.\n",
    "\n",
    "In reality, we want the next best project that the user has not yet browsed. So, we will screen 9334 out from our recommendation. \n",
    "\n",
    "**Keep in mind that this result is purely from LDA. In reality, many more possible features(such as location, starting price) can be extracted from other data file.**"
   ]
  },
  {
   "cell_type": "markdown",
   "metadata": {},
   "source": [
    "## Bonus: Multiprocessing with imap"
   ]
  },
  {
   "cell_type": "markdown",
   "metadata": {},
   "source": [
    "We can potentially speed up our program with multiprocessing.\n",
    "\n",
    "Below is a simple tutorial on how to use multiprocessing in Python.\n"
   ]
  },
  {
   "cell_type": "code",
   "execution_count": 35,
   "metadata": {},
   "outputs": [],
   "source": [
    "import multiprocessing"
   ]
  },
  {
   "cell_type": "markdown",
   "metadata": {},
   "source": [
    "Below is how to find out how many CPU cores you have"
   ]
  },
  {
   "cell_type": "code",
   "execution_count": 36,
   "metadata": {},
   "outputs": [
    {
     "name": "stdout",
     "output_type": "stream",
     "text": [
      "4\n"
     ]
    }
   ],
   "source": [
    "num_cores = multiprocessing.cpu_count()\n",
    "print(num_cores)"
   ]
  },
  {
   "cell_type": "markdown",
   "metadata": {},
   "source": [
    "Suppose we have our data below"
   ]
  },
  {
   "cell_type": "code",
   "execution_count": 37,
   "metadata": {},
   "outputs": [],
   "source": [
    "ls = [0]*100000\n",
    "for i in range(0,100000):\n",
    "    ls[i] = i"
   ]
  },
  {
   "cell_type": "markdown",
   "metadata": {},
   "source": [
    "We will then find the cutoff for spliting our data into **num_cores** parts so we can feed each to each core. \n",
    "\n",
    "In the tutorial below we will only find the cutoff for each core and store them in tuples. "
   ]
  },
  {
   "cell_type": "code",
   "execution_count": 38,
   "metadata": {},
   "outputs": [
    {
     "name": "stdout",
     "output_type": "stream",
     "text": [
      "[(0, 25000, 0), (25000, 50000, 1), (50000, 75000, 2), (75000, 100000, 3)]\n"
     ]
    }
   ],
   "source": [
    "n = len(ls)\n",
    "core = 0\n",
    "arg_instances = []\n",
    "for i in range(num_cores):\n",
    "    arg_instances.append((i*int(n/num_cores), (i+1)*int(n/num_cores), core))\n",
    "    core+=1\n",
    "print(arg_instances)"
   ]
  },
  {
   "cell_type": "code",
   "execution_count": 39,
   "metadata": {},
   "outputs": [],
   "source": [
    "def process(arg):\n",
    "    start, stop, core = arg\n",
    "    print('Core '+str(core)+' start!')\n",
    "    ls = [0]*100000\n",
    "    for i in range(0,100000):\n",
    "        ls[i] = i\n",
    "    sum = 0\n",
    "    for i in range(start,stop):\n",
    "        sum+=ls[i]\n",
    "    print('Core '+str(core)+' end!')\n",
    "    return sum"
   ]
  },
  {
   "cell_type": "markdown",
   "metadata": {},
   "source": [
    "We can then pass the function above into multiprocessing. "
   ]
  },
  {
   "cell_type": "code",
   "execution_count": 40,
   "metadata": {},
   "outputs": [
    {
     "name": "stdout",
     "output_type": "stream",
     "text": [
      "Core 3 start!\n",
      "Core 2 start!\n",
      "Core 0 start!\n",
      "Core 1 start!\n",
      "Core 2 end!\n",
      "Core 0 end!\n",
      "Core 3 end!\n",
      "Core 1 end!\n",
      "Sum of element in the list: 4999950000\n"
     ]
    }
   ],
   "source": [
    "p = multiprocessing.Pool(num_cores)\n",
    "sum = 0\n",
    "for result in p.imap(process, arg_instances):\n",
    "    sum+=result\n",
    "print('Sum of element in the list:', sum)"
   ]
  },
  {
   "cell_type": "markdown",
   "metadata": {},
   "source": [
    "## -- End of Tutorial --"
   ]
  },
  {
   "cell_type": "code",
   "execution_count": null,
   "metadata": {},
   "outputs": [],
   "source": []
  }
 ],
 "metadata": {
  "kernelspec": {
   "display_name": "Python 3",
   "language": "python",
   "name": "python3"
  },
  "language_info": {
   "codemirror_mode": {
    "name": "ipython",
    "version": 3
   },
   "file_extension": ".py",
   "mimetype": "text/x-python",
   "name": "python",
   "nbconvert_exporter": "python",
   "pygments_lexer": "ipython3",
   "version": "3.6.5"
  }
 },
 "nbformat": 4,
 "nbformat_minor": 2
}
